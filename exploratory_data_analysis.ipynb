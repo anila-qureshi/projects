{
 "cells": [
  {
   "cell_type": "markdown",
   "id": "d0f0b62f-e7fa-402a-be4b-c756d1e86977",
   "metadata": {
    "tags": []
   },
   "source": [
    "# Exploratory Data Analysis"
   ]
  },
  {
   "cell_type": "code",
   "execution_count": 1,
   "id": "cd5f2da9-196c-43cf-b1f1-488eb79072e0",
   "metadata": {
    "tags": []
   },
   "outputs": [],
   "source": [
    "import pandas as pd"
   ]
  },
  {
   "cell_type": "code",
   "execution_count": 2,
   "id": "72d1f339-62cd-475e-8a8d-8dc45b1c56a8",
   "metadata": {
    "tags": []
   },
   "outputs": [
    {
     "data": {
      "text/html": [
       "<div>\n",
       "<style scoped>\n",
       "    .dataframe tbody tr th:only-of-type {\n",
       "        vertical-align: middle;\n",
       "    }\n",
       "\n",
       "    .dataframe tbody tr th {\n",
       "        vertical-align: top;\n",
       "    }\n",
       "\n",
       "    .dataframe thead th {\n",
       "        text-align: right;\n",
       "    }\n",
       "</style>\n",
       "<table border=\"1\" class=\"dataframe\">\n",
       "  <thead>\n",
       "    <tr style=\"text-align: right;\">\n",
       "      <th></th>\n",
       "      <th>Repository</th>\n",
       "      <th>Commit Hash</th>\n",
       "      <th>Author</th>\n",
       "      <th>Date and Time</th>\n",
       "      <th>Commit Message</th>\n",
       "      <th>Insertions</th>\n",
       "      <th>Deletions</th>\n",
       "    </tr>\n",
       "  </thead>\n",
       "  <tbody>\n",
       "    <tr>\n",
       "      <th>48912</th>\n",
       "      <td>gpt-neo</td>\n",
       "      <td>2346f4fc099a3615532b5dd398b4beebbd679779</td>\n",
       "      <td>connor</td>\n",
       "      <td>2020-07-05 16:06:51 +0000</td>\n",
       "      <td>Fixed data path for testing</td>\n",
       "      <td>3 files changed</td>\n",
       "      <td>6 insertions(+)</td>\n",
       "    </tr>\n",
       "    <tr>\n",
       "      <th>48913</th>\n",
       "      <td>gpt-neo</td>\n",
       "      <td>43c9083614c166ce873c84e6c5ae15db73e79ab4</td>\n",
       "      <td>connor</td>\n",
       "      <td>2020-07-05 15:31:07 +0000</td>\n",
       "      <td>Refactored input function, support for samplin...</td>\n",
       "      <td>7 files changed</td>\n",
       "      <td>90 insertions(+)</td>\n",
       "    </tr>\n",
       "    <tr>\n",
       "      <th>48914</th>\n",
       "      <td>gpt-neo</td>\n",
       "      <td>762ac92f3ebc1bef1a5126b1e0c76f0c0413ccaf</td>\n",
       "      <td>connor</td>\n",
       "      <td>2020-07-05 15:06:11 +0000</td>\n",
       "      <td>Add .gitignore</td>\n",
       "      <td>1 file changed</td>\n",
       "      <td>110 insertions(+)</td>\n",
       "    </tr>\n",
       "    <tr>\n",
       "      <th>48915</th>\n",
       "      <td>gpt-neo</td>\n",
       "      <td>187fb4f3e9460f3b27d7cea4fac25cade975596c</td>\n",
       "      <td>connor</td>\n",
       "      <td>2020-07-05 10:41:49 +0000</td>\n",
       "      <td>Exposed local attention as a parameter</td>\n",
       "      <td>6 files changed</td>\n",
       "      <td>13 insertions(+)</td>\n",
       "    </tr>\n",
       "    <tr>\n",
       "      <th>48916</th>\n",
       "      <td>gpt-neo</td>\n",
       "      <td>82eca2074bb010512fa0779d26dc9e71e33d7eb8</td>\n",
       "      <td>connor</td>\n",
       "      <td>2020-07-05 10:35:45 +0000</td>\n",
       "      <td>Small README updates</td>\n",
       "      <td>1 file changed</td>\n",
       "      <td>8 insertions(+)</td>\n",
       "    </tr>\n",
       "  </tbody>\n",
       "</table>\n",
       "</div>"
      ],
      "text/plain": [
       "      Repository                               Commit Hash  Author  \\\n",
       "48912    gpt-neo  2346f4fc099a3615532b5dd398b4beebbd679779  connor   \n",
       "48913    gpt-neo  43c9083614c166ce873c84e6c5ae15db73e79ab4  connor   \n",
       "48914    gpt-neo  762ac92f3ebc1bef1a5126b1e0c76f0c0413ccaf  connor   \n",
       "48915    gpt-neo  187fb4f3e9460f3b27d7cea4fac25cade975596c  connor   \n",
       "48916    gpt-neo  82eca2074bb010512fa0779d26dc9e71e33d7eb8  connor   \n",
       "\n",
       "                   Date and Time  \\\n",
       "48912  2020-07-05 16:06:51 +0000   \n",
       "48913  2020-07-05 15:31:07 +0000   \n",
       "48914  2020-07-05 15:06:11 +0000   \n",
       "48915  2020-07-05 10:41:49 +0000   \n",
       "48916  2020-07-05 10:35:45 +0000   \n",
       "\n",
       "                                          Commit Message       Insertions  \\\n",
       "48912                        Fixed data path for testing  3 files changed   \n",
       "48913  Refactored input function, support for samplin...  7 files changed   \n",
       "48914                                     Add .gitignore   1 file changed   \n",
       "48915             Exposed local attention as a parameter  6 files changed   \n",
       "48916                               Small README updates   1 file changed   \n",
       "\n",
       "               Deletions  \n",
       "48912    6 insertions(+)  \n",
       "48913   90 insertions(+)  \n",
       "48914  110 insertions(+)  \n",
       "48915   13 insertions(+)  \n",
       "48916    8 insertions(+)  "
      ]
     },
     "execution_count": 2,
     "metadata": {},
     "output_type": "execute_result"
    }
   ],
   "source": [
    "data = pd.read_csv('commit_data.csv')\n",
    "data.tail()"
   ]
  },
  {
   "cell_type": "code",
   "execution_count": 3,
   "id": "cf591835-7d3e-4c21-be49-5a932ffefdc6",
   "metadata": {
    "tags": []
   },
   "outputs": [
    {
     "data": {
      "text/plain": [
       "(48917, 7)"
      ]
     },
     "execution_count": 3,
     "metadata": {},
     "output_type": "execute_result"
    }
   ],
   "source": [
    "#how big is my data\n",
    "data.shape"
   ]
  },
  {
   "cell_type": "code",
   "execution_count": 4,
   "id": "631c7885-b81d-4a76-8fd0-4b6ecdb14f63",
   "metadata": {
    "tags": []
   },
   "outputs": [
    {
     "name": "stdout",
     "output_type": "stream",
     "text": [
      "['transformers' 'pandas' 'gpt-neo']\n",
      "['transformers' 'pandas' 'gpt-neo']\n",
      "['transformers' 'pandas' 'gpt-neo']\n",
      "['transformers' 'pandas' 'gpt-neo']\n",
      "['transformers' 'pandas' 'gpt-neo']\n",
      "['transformers' 'pandas' 'gpt-neo']\n",
      "['transformers' 'pandas' 'gpt-neo']\n"
     ]
    }
   ],
   "source": [
    "# look at the different data repositories from the scrape\n",
    "for col in data:\n",
    "  print(data['Repository'].unique())"
   ]
  },
  {
   "cell_type": "code",
   "execution_count": 5,
   "id": "0c826ccb-76cf-4e86-b0fd-3d0583c16719",
   "metadata": {
    "tags": []
   },
   "outputs": [
    {
     "data": {
      "text/plain": [
       "Repository\n",
       "pandas          33608\n",
       "transformers    14426\n",
       "gpt-neo           883\n",
       "Name: count, dtype: int64"
      ]
     },
     "execution_count": 5,
     "metadata": {},
     "output_type": "execute_result"
    }
   ],
   "source": [
    "# count the data entries for each repository that was scraped\n",
    "data.Repository.value_counts()"
   ]
  },
  {
   "cell_type": "code",
   "execution_count": 6,
   "id": "3b81a2c8-53f8-45ca-b82d-c468bc8ce6c1",
   "metadata": {
    "tags": []
   },
   "outputs": [
    {
     "name": "stdout",
     "output_type": "stream",
     "text": [
      "2009-08-05 02:32:49 +0000\n",
      "2023-11-08 16:27:37 +0800\n"
     ]
    }
   ],
   "source": [
    "#Check to see the oldest commit pulled and the newest \n",
    "oldest_commit = print(min(data['Date and Time']))\n",
    "newest_commit = print(max(data['Date and Time']))\n",
    "oldest_commit\n",
    "newest_commit"
   ]
  },
  {
   "cell_type": "code",
   "execution_count": 7,
   "id": "5f01bdf9-ed73-4d8e-98ca-410341ef2068",
   "metadata": {
    "tags": []
   },
   "outputs": [
    {
     "data": {
      "text/plain": [
       "Repository        object\n",
       "Commit Hash       object\n",
       "Author            object\n",
       "Date and Time     object\n",
       "Commit Message    object\n",
       "Insertions        object\n",
       "Deletions         object\n",
       "dtype: object"
      ]
     },
     "execution_count": 7,
     "metadata": {},
     "output_type": "execute_result"
    }
   ],
   "source": [
    "# we do not want to take commits from 2009. Let's narrow our data to show just 2023 \n",
    "# first step is to look at the data types before we do this\n",
    "data.dtypes"
   ]
  },
  {
   "cell_type": "code",
   "execution_count": 8,
   "id": "c3e45a31-f4c7-4de5-9c13-02aa70687f88",
   "metadata": {
    "tags": []
   },
   "outputs": [
    {
     "data": {
      "text/plain": [
       "Repository                     object\n",
       "Commit Hash                    object\n",
       "Author                         object\n",
       "Date and Time     datetime64[ns, UTC]\n",
       "Commit Message                 object\n",
       "Insertions                     object\n",
       "Deletions                      object\n",
       "dtype: object"
      ]
     },
     "execution_count": 8,
     "metadata": {},
     "output_type": "execute_result"
    }
   ],
   "source": [
    "#convert date and time to datetime64\n",
    "data['Date and Time'] = pd.to_datetime(data['Date and Time'], utc=True)\n",
    "#check data types again\n",
    "data.dtypes"
   ]
  },
  {
   "cell_type": "code",
   "execution_count": 9,
   "id": "b7b62455-18f5-4375-bccb-10b747985494",
   "metadata": {
    "tags": []
   },
   "outputs": [
    {
     "data": {
      "text/html": [
       "<div>\n",
       "<style scoped>\n",
       "    .dataframe tbody tr th:only-of-type {\n",
       "        vertical-align: middle;\n",
       "    }\n",
       "\n",
       "    .dataframe tbody tr th {\n",
       "        vertical-align: top;\n",
       "    }\n",
       "\n",
       "    .dataframe thead th {\n",
       "        text-align: right;\n",
       "    }\n",
       "</style>\n",
       "<table border=\"1\" class=\"dataframe\">\n",
       "  <thead>\n",
       "    <tr style=\"text-align: right;\">\n",
       "      <th></th>\n",
       "      <th>Repository</th>\n",
       "      <th>Commit Hash</th>\n",
       "      <th>Author</th>\n",
       "      <th>Date and Time</th>\n",
       "      <th>Commit Message</th>\n",
       "      <th>Insertions</th>\n",
       "      <th>Deletions</th>\n",
       "    </tr>\n",
       "  </thead>\n",
       "  <tbody>\n",
       "    <tr>\n",
       "      <th>0</th>\n",
       "      <td>transformers</td>\n",
       "      <td>b6dbfee0a21d333447b47887dbe2cb87720ebfd0</td>\n",
       "      <td>Hz, Ji</td>\n",
       "      <td>2023-11-08 08:27:37+00:00</td>\n",
       "      <td>moving example of benchmarking to legacy dir (...</td>\n",
       "      <td>4 files changed</td>\n",
       "      <td>0 insertions(+)</td>\n",
       "    </tr>\n",
       "    <tr>\n",
       "      <th>1</th>\n",
       "      <td>transformers</td>\n",
       "      <td>be74b2ead69df1849ec62ac5c86c7d5dee663448</td>\n",
       "      <td>Yoach Lacombe</td>\n",
       "      <td>2023-11-08 07:39:37+00:00</td>\n",
       "      <td>Add numpy alternative to FE using torchaudio (...</td>\n",
       "      <td>9 files changed</td>\n",
       "      <td>208 insertions(+)</td>\n",
       "    </tr>\n",
       "    <tr>\n",
       "      <th>2</th>\n",
       "      <td>transformers</td>\n",
       "      <td>e2647450511e44ad9020d7d5dd455b2851850538</td>\n",
       "      <td>jiaqiw09</td>\n",
       "      <td>2023-11-07 23:34:33+00:00</td>\n",
       "      <td>translate model_sharing.md and llm_tutorial.md...</td>\n",
       "      <td>3 files changed</td>\n",
       "      <td>511 insertions(+)</td>\n",
       "    </tr>\n",
       "    <tr>\n",
       "      <th>3</th>\n",
       "      <td>transformers</td>\n",
       "      <td>f213d5dd8cea1eb31d9b44dbdf268e4265a6d338</td>\n",
       "      <td>九是否随意的称呼</td>\n",
       "      <td>2023-11-07 23:31:51+00:00</td>\n",
       "      <td>translate the en tokenizer_summary.md to Chine...</td>\n",
       "      <td>2 files changed</td>\n",
       "      <td>236 insertions(+)</td>\n",
       "    </tr>\n",
       "    <tr>\n",
       "      <th>4</th>\n",
       "      <td>transformers</td>\n",
       "      <td>7e1eff7600085814eac65876d4d8a0e38c2f6ccc</td>\n",
       "      <td>Plemeur</td>\n",
       "      <td>2023-11-07 21:40:00+00:00</td>\n",
       "      <td>Allow scheduler parameters (#26480)</td>\n",
       "      <td>3 files changed</td>\n",
       "      <td>24 insertions(+)</td>\n",
       "    </tr>\n",
       "  </tbody>\n",
       "</table>\n",
       "</div>"
      ],
      "text/plain": [
       "     Repository                               Commit Hash         Author  \\\n",
       "0  transformers  b6dbfee0a21d333447b47887dbe2cb87720ebfd0         Hz, Ji   \n",
       "1  transformers  be74b2ead69df1849ec62ac5c86c7d5dee663448  Yoach Lacombe   \n",
       "2  transformers  e2647450511e44ad9020d7d5dd455b2851850538       jiaqiw09   \n",
       "3  transformers  f213d5dd8cea1eb31d9b44dbdf268e4265a6d338       九是否随意的称呼   \n",
       "4  transformers  7e1eff7600085814eac65876d4d8a0e38c2f6ccc        Plemeur   \n",
       "\n",
       "              Date and Time  \\\n",
       "0 2023-11-08 08:27:37+00:00   \n",
       "1 2023-11-08 07:39:37+00:00   \n",
       "2 2023-11-07 23:34:33+00:00   \n",
       "3 2023-11-07 23:31:51+00:00   \n",
       "4 2023-11-07 21:40:00+00:00   \n",
       "\n",
       "                                      Commit Message       Insertions  \\\n",
       "0  moving example of benchmarking to legacy dir (...  4 files changed   \n",
       "1  Add numpy alternative to FE using torchaudio (...  9 files changed   \n",
       "2  translate model_sharing.md and llm_tutorial.md...  3 files changed   \n",
       "3  translate the en tokenizer_summary.md to Chine...  2 files changed   \n",
       "4                Allow scheduler parameters (#26480)  3 files changed   \n",
       "\n",
       "           Deletions  \n",
       "0    0 insertions(+)  \n",
       "1  208 insertions(+)  \n",
       "2  511 insertions(+)  \n",
       "3  236 insertions(+)  \n",
       "4   24 insertions(+)  "
      ]
     },
     "execution_count": 9,
     "metadata": {},
     "output_type": "execute_result"
    }
   ],
   "source": [
    "data.head()"
   ]
  },
  {
   "cell_type": "code",
   "execution_count": 10,
   "id": "aeaf6ceb-a9a7-4fc0-8113-1e96b86141bd",
   "metadata": {
    "tags": []
   },
   "outputs": [
    {
     "data": {
      "text/plain": [
       "(5325, 7)"
      ]
     },
     "execution_count": 10,
     "metadata": {},
     "output_type": "execute_result"
    }
   ],
   "source": [
    "filtered_data = data.loc[(data['Date and Time'] >= '2023-01-01') & (data['Date and Time'] < '2024-01-01')]\n",
    "filtered_data.shape"
   ]
  },
  {
   "cell_type": "code",
   "execution_count": 11,
   "id": "b7269b68-f67b-403f-9faa-e103422bb034",
   "metadata": {
    "tags": []
   },
   "outputs": [
    {
     "name": "stdout",
     "output_type": "stream",
     "text": [
      "2023-01-02 09:02:42+00:00\n",
      "2023-11-08 08:27:37+00:00\n"
     ]
    }
   ],
   "source": [
    "#check the oldest and newest commits of the new range\n",
    "oldest_commit = print(min(filtered_data['Date and Time']))\n",
    "newest_commit = print(max(filtered_data['Date and Time']))\n",
    "oldest_commit\n",
    "newest_commit"
   ]
  },
  {
   "cell_type": "markdown",
   "id": "1902eb7f-c51e-433c-9252-4d871cd0ec60",
   "metadata": {},
   "source": [
    "We can see that no one really did any commits on 1st Jan but that the data runs up until 8 Nov. When it comes to automation, we can run this every hour of the day and make sure we get the latest information. This can be shown with the dashboards"
   ]
  },
  {
   "cell_type": "markdown",
   "id": "2fde7ae6-9564-4f0b-a61d-95455f3bd4d4",
   "metadata": {},
   "source": [
    "https://linearb.io/platform/engineering-metrics?_bt=669057019803&_bk=git%20analysis&_bm=p&_bn=g&_bg=148510987137&utm_term=git%20analysis&utm_medium=cpc&utm_campaign=Git_Analytics_EMEA&utm_source=google&gclid=CjwKCAiAxreqBhAxEiwAfGfndCduGD6_KX6t3Qac2xOVSAZ0goT91wMJuubVWZg_3B5crAD1EvmTVRoC7WEQAvD_BwE\n",
    "\n",
    "https://www.swarmia.com/git-analytics/?utm_term=git%20commit%20analysis&utm_campaign=SRH-REPORTING-EU-EN&utm_source=adwords&utm_medium=ppc&hsa_acc=6644081770&hsa_cam=16463390782&hsa_grp=134848023035&hsa_ad=587278803490&hsa_src=g&hsa_tgt=kwd-845407978495&hsa_kw=git%20commit%20analysis&hsa_mt=e&hsa_net=adwords&hsa_ver=3&gclid=CjwKCAiAxreqBhAxEiwAfGfndFRHVoR4zEmqadAYvclCZJlbyFL1rKjLGDw5QOoBI5_cLwoHxSCtyxoCoVIQAvD_BwE\n",
    "\n",
    "https://insights.keypup.io/git-metrics/?utm_term=git%20analytics&utm_campaign=Search+%7C+Prospecting+%7C+Product+%7C+UK/US&utm_source=adwords&utm_medium=ppc&hsa_acc=3825144411&hsa_cam=18198813780&hsa_grp=145858793972&hsa_ad=618979516545&hsa_src=g&hsa_tgt=kwd-370383172922&hsa_kw=git%20analytics&hsa_mt=p&hsa_net=adwords&hsa_ver=3&gclid=CjwKCAiAxreqBhAxEiwAfGfndGn-jxbe99WP6MsThbohVYcrudC0FYUGcgVhYSCZkx3gwIrzjJMBNBoCWZoQAvD_BwE ($999 up to 300 selected repos/projects) unlimited users...\n",
    "\n"
   ]
  },
  {
   "cell_type": "markdown",
   "id": "485497dd-2227-496a-a91f-30b078a73a20",
   "metadata": {},
   "source": [
    "## New discovery\n",
    "There is a package called GitStats: https://gitstats.sourceforge.net/ that does a git history statistic generation. It does: <br>\n",
    "- General statistics: total files, lines, commits, authors. <br>\n",
    "- Activity: commits by hour of day, day of week, hour of week, month of year, year and month, and year.<br>\n",
    "- Authors: list of authors (name, commits (%), first commit date, last commit date, age), author of month, author of year.<br>\n",
    "- Files: file count by date, extensions<br>\n",
    "- Lines: Lines of Code by date"
   ]
  },
  {
   "cell_type": "markdown",
   "id": "5e3ba75f-7656-46d2-98d4-2a61cebddc3d",
   "metadata": {},
   "source": [
    "# Data Transformation"
   ]
  },
  {
   "cell_type": "code",
   "execution_count": 12,
   "id": "cb195832-b747-4b51-abfb-45580c163db1",
   "metadata": {
    "tags": []
   },
   "outputs": [
    {
     "name": "stderr",
     "output_type": "stream",
     "text": [
      "/tmp/ipykernel_3944/3767783870.py:2: SettingWithCopyWarning: \n",
      "A value is trying to be set on a copy of a slice from a DataFrame.\n",
      "Try using .loc[row_indexer,col_indexer] = value instead\n",
      "\n",
      "See the caveats in the documentation: https://pandas.pydata.org/pandas-docs/stable/user_guide/indexing.html#returning-a-view-versus-a-copy\n",
      "  filtered_data['Date'] = filtered_data['Date and Time'].dt.date\n"
     ]
    },
    {
     "data": {
      "text/html": [
       "<div>\n",
       "<style scoped>\n",
       "    .dataframe tbody tr th:only-of-type {\n",
       "        vertical-align: middle;\n",
       "    }\n",
       "\n",
       "    .dataframe tbody tr th {\n",
       "        vertical-align: top;\n",
       "    }\n",
       "\n",
       "    .dataframe thead th {\n",
       "        text-align: right;\n",
       "    }\n",
       "</style>\n",
       "<table border=\"1\" class=\"dataframe\">\n",
       "  <thead>\n",
       "    <tr style=\"text-align: right;\">\n",
       "      <th></th>\n",
       "      <th>Repository</th>\n",
       "      <th>Commit Hash</th>\n",
       "      <th>Author</th>\n",
       "      <th>Date and Time</th>\n",
       "      <th>Commit Message</th>\n",
       "      <th>Insertions</th>\n",
       "      <th>Deletions</th>\n",
       "      <th>Date</th>\n",
       "    </tr>\n",
       "  </thead>\n",
       "  <tbody>\n",
       "    <tr>\n",
       "      <th>0</th>\n",
       "      <td>transformers</td>\n",
       "      <td>b6dbfee0a21d333447b47887dbe2cb87720ebfd0</td>\n",
       "      <td>Hz, Ji</td>\n",
       "      <td>2023-11-08 08:27:37+00:00</td>\n",
       "      <td>moving example of benchmarking to legacy dir (...</td>\n",
       "      <td>4 files changed</td>\n",
       "      <td>0 insertions(+)</td>\n",
       "      <td>2023-11-08</td>\n",
       "    </tr>\n",
       "    <tr>\n",
       "      <th>1</th>\n",
       "      <td>transformers</td>\n",
       "      <td>be74b2ead69df1849ec62ac5c86c7d5dee663448</td>\n",
       "      <td>Yoach Lacombe</td>\n",
       "      <td>2023-11-08 07:39:37+00:00</td>\n",
       "      <td>Add numpy alternative to FE using torchaudio (...</td>\n",
       "      <td>9 files changed</td>\n",
       "      <td>208 insertions(+)</td>\n",
       "      <td>2023-11-08</td>\n",
       "    </tr>\n",
       "    <tr>\n",
       "      <th>2</th>\n",
       "      <td>transformers</td>\n",
       "      <td>e2647450511e44ad9020d7d5dd455b2851850538</td>\n",
       "      <td>jiaqiw09</td>\n",
       "      <td>2023-11-07 23:34:33+00:00</td>\n",
       "      <td>translate model_sharing.md and llm_tutorial.md...</td>\n",
       "      <td>3 files changed</td>\n",
       "      <td>511 insertions(+)</td>\n",
       "      <td>2023-11-07</td>\n",
       "    </tr>\n",
       "    <tr>\n",
       "      <th>3</th>\n",
       "      <td>transformers</td>\n",
       "      <td>f213d5dd8cea1eb31d9b44dbdf268e4265a6d338</td>\n",
       "      <td>九是否随意的称呼</td>\n",
       "      <td>2023-11-07 23:31:51+00:00</td>\n",
       "      <td>translate the en tokenizer_summary.md to Chine...</td>\n",
       "      <td>2 files changed</td>\n",
       "      <td>236 insertions(+)</td>\n",
       "      <td>2023-11-07</td>\n",
       "    </tr>\n",
       "    <tr>\n",
       "      <th>4</th>\n",
       "      <td>transformers</td>\n",
       "      <td>7e1eff7600085814eac65876d4d8a0e38c2f6ccc</td>\n",
       "      <td>Plemeur</td>\n",
       "      <td>2023-11-07 21:40:00+00:00</td>\n",
       "      <td>Allow scheduler parameters (#26480)</td>\n",
       "      <td>3 files changed</td>\n",
       "      <td>24 insertions(+)</td>\n",
       "      <td>2023-11-07</td>\n",
       "    </tr>\n",
       "  </tbody>\n",
       "</table>\n",
       "</div>"
      ],
      "text/plain": [
       "     Repository                               Commit Hash         Author  \\\n",
       "0  transformers  b6dbfee0a21d333447b47887dbe2cb87720ebfd0         Hz, Ji   \n",
       "1  transformers  be74b2ead69df1849ec62ac5c86c7d5dee663448  Yoach Lacombe   \n",
       "2  transformers  e2647450511e44ad9020d7d5dd455b2851850538       jiaqiw09   \n",
       "3  transformers  f213d5dd8cea1eb31d9b44dbdf268e4265a6d338       九是否随意的称呼   \n",
       "4  transformers  7e1eff7600085814eac65876d4d8a0e38c2f6ccc        Plemeur   \n",
       "\n",
       "              Date and Time  \\\n",
       "0 2023-11-08 08:27:37+00:00   \n",
       "1 2023-11-08 07:39:37+00:00   \n",
       "2 2023-11-07 23:34:33+00:00   \n",
       "3 2023-11-07 23:31:51+00:00   \n",
       "4 2023-11-07 21:40:00+00:00   \n",
       "\n",
       "                                      Commit Message       Insertions  \\\n",
       "0  moving example of benchmarking to legacy dir (...  4 files changed   \n",
       "1  Add numpy alternative to FE using torchaudio (...  9 files changed   \n",
       "2  translate model_sharing.md and llm_tutorial.md...  3 files changed   \n",
       "3  translate the en tokenizer_summary.md to Chine...  2 files changed   \n",
       "4                Allow scheduler parameters (#26480)  3 files changed   \n",
       "\n",
       "           Deletions        Date  \n",
       "0    0 insertions(+)  2023-11-08  \n",
       "1  208 insertions(+)  2023-11-08  \n",
       "2  511 insertions(+)  2023-11-07  \n",
       "3  236 insertions(+)  2023-11-07  \n",
       "4   24 insertions(+)  2023-11-07  "
      ]
     },
     "execution_count": 12,
     "metadata": {},
     "output_type": "execute_result"
    }
   ],
   "source": [
    "#start by sorting creating new column to show just the date without an actual timestamp\n",
    "filtered_data['Date'] = filtered_data['Date and Time'].dt.date\n",
    "filtered_data.head()"
   ]
  },
  {
   "cell_type": "code",
   "execution_count": 13,
   "id": "a806bf32-6dd6-439d-8dff-28f5a73be6a9",
   "metadata": {
    "tags": []
   },
   "outputs": [
    {
     "data": {
      "text/plain": [
       "5325"
      ]
     },
     "execution_count": 13,
     "metadata": {},
     "output_type": "execute_result"
    }
   ],
   "source": [
    "filtered_data['Commit Hash'].unique().size"
   ]
  },
  {
   "cell_type": "code",
   "execution_count": 14,
   "id": "9cac4fce-a55f-46d2-a9cb-2ac9a5813528",
   "metadata": {
    "tags": []
   },
   "outputs": [
    {
     "data": {
      "text/plain": [
       "5325"
      ]
     },
     "execution_count": 14,
     "metadata": {},
     "output_type": "execute_result"
    }
   ],
   "source": [
    "filtered_data['Commit Hash'].nunique()"
   ]
  },
  {
   "cell_type": "code",
   "execution_count": 15,
   "id": "0881ef70-9771-43f6-9e3c-c82fa5e68fe4",
   "metadata": {
    "tags": []
   },
   "outputs": [
    {
     "name": "stderr",
     "output_type": "stream",
     "text": [
      "/tmp/ipykernel_3944/3263056670.py:2: SettingWithCopyWarning: \n",
      "A value is trying to be set on a copy of a slice from a DataFrame.\n",
      "Try using .loc[row_indexer,col_indexer] = value instead\n",
      "\n",
      "See the caveats in the documentation: https://pandas.pydata.org/pandas-docs/stable/user_guide/indexing.html#returning-a-view-versus-a-copy\n",
      "  filtered_data['# Insertions'] = pd.to_numeric(filtered_data['Insertions'].str.extract('(\\d+)')[0], errors='coerce').fillna(0).astype(int)\n"
     ]
    },
    {
     "data": {
      "text/html": [
       "<div>\n",
       "<style scoped>\n",
       "    .dataframe tbody tr th:only-of-type {\n",
       "        vertical-align: middle;\n",
       "    }\n",
       "\n",
       "    .dataframe tbody tr th {\n",
       "        vertical-align: top;\n",
       "    }\n",
       "\n",
       "    .dataframe thead th {\n",
       "        text-align: right;\n",
       "    }\n",
       "</style>\n",
       "<table border=\"1\" class=\"dataframe\">\n",
       "  <thead>\n",
       "    <tr style=\"text-align: right;\">\n",
       "      <th></th>\n",
       "      <th>Repository</th>\n",
       "      <th>Commit Hash</th>\n",
       "      <th>Author</th>\n",
       "      <th>Date and Time</th>\n",
       "      <th>Commit Message</th>\n",
       "      <th>Insertions</th>\n",
       "      <th>Deletions</th>\n",
       "      <th>Date</th>\n",
       "      <th># Insertions</th>\n",
       "    </tr>\n",
       "  </thead>\n",
       "  <tbody>\n",
       "    <tr>\n",
       "      <th>0</th>\n",
       "      <td>transformers</td>\n",
       "      <td>b6dbfee0a21d333447b47887dbe2cb87720ebfd0</td>\n",
       "      <td>Hz, Ji</td>\n",
       "      <td>2023-11-08 08:27:37+00:00</td>\n",
       "      <td>moving example of benchmarking to legacy dir (...</td>\n",
       "      <td>4 files changed</td>\n",
       "      <td>0 insertions(+)</td>\n",
       "      <td>2023-11-08</td>\n",
       "      <td>4</td>\n",
       "    </tr>\n",
       "    <tr>\n",
       "      <th>1</th>\n",
       "      <td>transformers</td>\n",
       "      <td>be74b2ead69df1849ec62ac5c86c7d5dee663448</td>\n",
       "      <td>Yoach Lacombe</td>\n",
       "      <td>2023-11-08 07:39:37+00:00</td>\n",
       "      <td>Add numpy alternative to FE using torchaudio (...</td>\n",
       "      <td>9 files changed</td>\n",
       "      <td>208 insertions(+)</td>\n",
       "      <td>2023-11-08</td>\n",
       "      <td>9</td>\n",
       "    </tr>\n",
       "    <tr>\n",
       "      <th>2</th>\n",
       "      <td>transformers</td>\n",
       "      <td>e2647450511e44ad9020d7d5dd455b2851850538</td>\n",
       "      <td>jiaqiw09</td>\n",
       "      <td>2023-11-07 23:34:33+00:00</td>\n",
       "      <td>translate model_sharing.md and llm_tutorial.md...</td>\n",
       "      <td>3 files changed</td>\n",
       "      <td>511 insertions(+)</td>\n",
       "      <td>2023-11-07</td>\n",
       "      <td>3</td>\n",
       "    </tr>\n",
       "    <tr>\n",
       "      <th>3</th>\n",
       "      <td>transformers</td>\n",
       "      <td>f213d5dd8cea1eb31d9b44dbdf268e4265a6d338</td>\n",
       "      <td>九是否随意的称呼</td>\n",
       "      <td>2023-11-07 23:31:51+00:00</td>\n",
       "      <td>translate the en tokenizer_summary.md to Chine...</td>\n",
       "      <td>2 files changed</td>\n",
       "      <td>236 insertions(+)</td>\n",
       "      <td>2023-11-07</td>\n",
       "      <td>2</td>\n",
       "    </tr>\n",
       "    <tr>\n",
       "      <th>4</th>\n",
       "      <td>transformers</td>\n",
       "      <td>7e1eff7600085814eac65876d4d8a0e38c2f6ccc</td>\n",
       "      <td>Plemeur</td>\n",
       "      <td>2023-11-07 21:40:00+00:00</td>\n",
       "      <td>Allow scheduler parameters (#26480)</td>\n",
       "      <td>3 files changed</td>\n",
       "      <td>24 insertions(+)</td>\n",
       "      <td>2023-11-07</td>\n",
       "      <td>3</td>\n",
       "    </tr>\n",
       "  </tbody>\n",
       "</table>\n",
       "</div>"
      ],
      "text/plain": [
       "     Repository                               Commit Hash         Author  \\\n",
       "0  transformers  b6dbfee0a21d333447b47887dbe2cb87720ebfd0         Hz, Ji   \n",
       "1  transformers  be74b2ead69df1849ec62ac5c86c7d5dee663448  Yoach Lacombe   \n",
       "2  transformers  e2647450511e44ad9020d7d5dd455b2851850538       jiaqiw09   \n",
       "3  transformers  f213d5dd8cea1eb31d9b44dbdf268e4265a6d338       九是否随意的称呼   \n",
       "4  transformers  7e1eff7600085814eac65876d4d8a0e38c2f6ccc        Plemeur   \n",
       "\n",
       "              Date and Time  \\\n",
       "0 2023-11-08 08:27:37+00:00   \n",
       "1 2023-11-08 07:39:37+00:00   \n",
       "2 2023-11-07 23:34:33+00:00   \n",
       "3 2023-11-07 23:31:51+00:00   \n",
       "4 2023-11-07 21:40:00+00:00   \n",
       "\n",
       "                                      Commit Message       Insertions  \\\n",
       "0  moving example of benchmarking to legacy dir (...  4 files changed   \n",
       "1  Add numpy alternative to FE using torchaudio (...  9 files changed   \n",
       "2  translate model_sharing.md and llm_tutorial.md...  3 files changed   \n",
       "3  translate the en tokenizer_summary.md to Chine...  2 files changed   \n",
       "4                Allow scheduler parameters (#26480)  3 files changed   \n",
       "\n",
       "           Deletions        Date  # Insertions  \n",
       "0    0 insertions(+)  2023-11-08             4  \n",
       "1  208 insertions(+)  2023-11-08             9  \n",
       "2  511 insertions(+)  2023-11-07             3  \n",
       "3  236 insertions(+)  2023-11-07             2  \n",
       "4   24 insertions(+)  2023-11-07             3  "
      ]
     },
     "execution_count": 15,
     "metadata": {},
     "output_type": "execute_result"
    }
   ],
   "source": [
    "#extract number part of the insertions column \n",
    "filtered_data['# Insertions'] = pd.to_numeric(filtered_data['Insertions'].str.extract('(\\d+)')[0], errors='coerce').fillna(0).astype(int)\n",
    "filtered_data.head()"
   ]
  },
  {
   "cell_type": "code",
   "execution_count": 16,
   "id": "72777f23-f29d-47ca-9b34-44e5e1beb273",
   "metadata": {
    "tags": []
   },
   "outputs": [
    {
     "name": "stderr",
     "output_type": "stream",
     "text": [
      "/tmp/ipykernel_3944/2712100933.py:2: SettingWithCopyWarning: \n",
      "A value is trying to be set on a copy of a slice from a DataFrame.\n",
      "Try using .loc[row_indexer,col_indexer] = value instead\n",
      "\n",
      "See the caveats in the documentation: https://pandas.pydata.org/pandas-docs/stable/user_guide/indexing.html#returning-a-view-versus-a-copy\n",
      "  filtered_data['# Deletions'] = pd.to_numeric(filtered_data['Deletions'].str.extract('(\\d+)')[0], errors='coerce').fillna(0).astype(int)\n"
     ]
    },
    {
     "data": {
      "text/html": [
       "<div>\n",
       "<style scoped>\n",
       "    .dataframe tbody tr th:only-of-type {\n",
       "        vertical-align: middle;\n",
       "    }\n",
       "\n",
       "    .dataframe tbody tr th {\n",
       "        vertical-align: top;\n",
       "    }\n",
       "\n",
       "    .dataframe thead th {\n",
       "        text-align: right;\n",
       "    }\n",
       "</style>\n",
       "<table border=\"1\" class=\"dataframe\">\n",
       "  <thead>\n",
       "    <tr style=\"text-align: right;\">\n",
       "      <th></th>\n",
       "      <th>Repository</th>\n",
       "      <th>Commit Hash</th>\n",
       "      <th>Author</th>\n",
       "      <th>Date and Time</th>\n",
       "      <th>Commit Message</th>\n",
       "      <th>Insertions</th>\n",
       "      <th>Deletions</th>\n",
       "      <th>Date</th>\n",
       "      <th># Insertions</th>\n",
       "      <th># Deletions</th>\n",
       "    </tr>\n",
       "  </thead>\n",
       "  <tbody>\n",
       "    <tr>\n",
       "      <th>0</th>\n",
       "      <td>transformers</td>\n",
       "      <td>b6dbfee0a21d333447b47887dbe2cb87720ebfd0</td>\n",
       "      <td>Hz, Ji</td>\n",
       "      <td>2023-11-08 08:27:37+00:00</td>\n",
       "      <td>moving example of benchmarking to legacy dir (...</td>\n",
       "      <td>4 files changed</td>\n",
       "      <td>0 insertions(+)</td>\n",
       "      <td>2023-11-08</td>\n",
       "      <td>4</td>\n",
       "      <td>0</td>\n",
       "    </tr>\n",
       "    <tr>\n",
       "      <th>1</th>\n",
       "      <td>transformers</td>\n",
       "      <td>be74b2ead69df1849ec62ac5c86c7d5dee663448</td>\n",
       "      <td>Yoach Lacombe</td>\n",
       "      <td>2023-11-08 07:39:37+00:00</td>\n",
       "      <td>Add numpy alternative to FE using torchaudio (...</td>\n",
       "      <td>9 files changed</td>\n",
       "      <td>208 insertions(+)</td>\n",
       "      <td>2023-11-08</td>\n",
       "      <td>9</td>\n",
       "      <td>208</td>\n",
       "    </tr>\n",
       "    <tr>\n",
       "      <th>2</th>\n",
       "      <td>transformers</td>\n",
       "      <td>e2647450511e44ad9020d7d5dd455b2851850538</td>\n",
       "      <td>jiaqiw09</td>\n",
       "      <td>2023-11-07 23:34:33+00:00</td>\n",
       "      <td>translate model_sharing.md and llm_tutorial.md...</td>\n",
       "      <td>3 files changed</td>\n",
       "      <td>511 insertions(+)</td>\n",
       "      <td>2023-11-07</td>\n",
       "      <td>3</td>\n",
       "      <td>511</td>\n",
       "    </tr>\n",
       "    <tr>\n",
       "      <th>3</th>\n",
       "      <td>transformers</td>\n",
       "      <td>f213d5dd8cea1eb31d9b44dbdf268e4265a6d338</td>\n",
       "      <td>九是否随意的称呼</td>\n",
       "      <td>2023-11-07 23:31:51+00:00</td>\n",
       "      <td>translate the en tokenizer_summary.md to Chine...</td>\n",
       "      <td>2 files changed</td>\n",
       "      <td>236 insertions(+)</td>\n",
       "      <td>2023-11-07</td>\n",
       "      <td>2</td>\n",
       "      <td>236</td>\n",
       "    </tr>\n",
       "    <tr>\n",
       "      <th>4</th>\n",
       "      <td>transformers</td>\n",
       "      <td>7e1eff7600085814eac65876d4d8a0e38c2f6ccc</td>\n",
       "      <td>Plemeur</td>\n",
       "      <td>2023-11-07 21:40:00+00:00</td>\n",
       "      <td>Allow scheduler parameters (#26480)</td>\n",
       "      <td>3 files changed</td>\n",
       "      <td>24 insertions(+)</td>\n",
       "      <td>2023-11-07</td>\n",
       "      <td>3</td>\n",
       "      <td>24</td>\n",
       "    </tr>\n",
       "  </tbody>\n",
       "</table>\n",
       "</div>"
      ],
      "text/plain": [
       "     Repository                               Commit Hash         Author  \\\n",
       "0  transformers  b6dbfee0a21d333447b47887dbe2cb87720ebfd0         Hz, Ji   \n",
       "1  transformers  be74b2ead69df1849ec62ac5c86c7d5dee663448  Yoach Lacombe   \n",
       "2  transformers  e2647450511e44ad9020d7d5dd455b2851850538       jiaqiw09   \n",
       "3  transformers  f213d5dd8cea1eb31d9b44dbdf268e4265a6d338       九是否随意的称呼   \n",
       "4  transformers  7e1eff7600085814eac65876d4d8a0e38c2f6ccc        Plemeur   \n",
       "\n",
       "              Date and Time  \\\n",
       "0 2023-11-08 08:27:37+00:00   \n",
       "1 2023-11-08 07:39:37+00:00   \n",
       "2 2023-11-07 23:34:33+00:00   \n",
       "3 2023-11-07 23:31:51+00:00   \n",
       "4 2023-11-07 21:40:00+00:00   \n",
       "\n",
       "                                      Commit Message       Insertions  \\\n",
       "0  moving example of benchmarking to legacy dir (...  4 files changed   \n",
       "1  Add numpy alternative to FE using torchaudio (...  9 files changed   \n",
       "2  translate model_sharing.md and llm_tutorial.md...  3 files changed   \n",
       "3  translate the en tokenizer_summary.md to Chine...  2 files changed   \n",
       "4                Allow scheduler parameters (#26480)  3 files changed   \n",
       "\n",
       "           Deletions        Date  # Insertions  # Deletions  \n",
       "0    0 insertions(+)  2023-11-08             4            0  \n",
       "1  208 insertions(+)  2023-11-08             9          208  \n",
       "2  511 insertions(+)  2023-11-07             3          511  \n",
       "3  236 insertions(+)  2023-11-07             2          236  \n",
       "4   24 insertions(+)  2023-11-07             3           24  "
      ]
     },
     "execution_count": 16,
     "metadata": {},
     "output_type": "execute_result"
    }
   ],
   "source": [
    "#extract number part of the deletions column \n",
    "filtered_data['# Deletions'] = pd.to_numeric(filtered_data['Deletions'].str.extract('(\\d+)')[0], errors='coerce').fillna(0).astype(int)\n",
    "filtered_data.head()"
   ]
  },
  {
   "cell_type": "code",
   "execution_count": 17,
   "id": "033f5361-4da4-4d8d-b1ef-1f1b62e79f97",
   "metadata": {
    "tags": []
   },
   "outputs": [
    {
     "name": "stderr",
     "output_type": "stream",
     "text": [
      "/tmp/ipykernel_3944/2488700089.py:2: SettingWithCopyWarning: \n",
      "A value is trying to be set on a copy of a slice from a DataFrame.\n",
      "Try using .loc[row_indexer,col_indexer] = value instead\n",
      "\n",
      "See the caveats in the documentation: https://pandas.pydata.org/pandas-docs/stable/user_guide/indexing.html#returning-a-view-versus-a-copy\n",
      "  filtered_data['Hour of Day'] = filtered_data['Date and Time'].dt.strftime('%H')\n"
     ]
    },
    {
     "data": {
      "text/html": [
       "<div>\n",
       "<style scoped>\n",
       "    .dataframe tbody tr th:only-of-type {\n",
       "        vertical-align: middle;\n",
       "    }\n",
       "\n",
       "    .dataframe tbody tr th {\n",
       "        vertical-align: top;\n",
       "    }\n",
       "\n",
       "    .dataframe thead th {\n",
       "        text-align: right;\n",
       "    }\n",
       "</style>\n",
       "<table border=\"1\" class=\"dataframe\">\n",
       "  <thead>\n",
       "    <tr style=\"text-align: right;\">\n",
       "      <th></th>\n",
       "      <th>Repository</th>\n",
       "      <th>Commit Hash</th>\n",
       "      <th>Author</th>\n",
       "      <th>Date and Time</th>\n",
       "      <th>Commit Message</th>\n",
       "      <th>Insertions</th>\n",
       "      <th>Deletions</th>\n",
       "      <th>Date</th>\n",
       "      <th># Insertions</th>\n",
       "      <th># Deletions</th>\n",
       "      <th>Hour of Day</th>\n",
       "    </tr>\n",
       "  </thead>\n",
       "  <tbody>\n",
       "    <tr>\n",
       "      <th>0</th>\n",
       "      <td>transformers</td>\n",
       "      <td>b6dbfee0a21d333447b47887dbe2cb87720ebfd0</td>\n",
       "      <td>Hz, Ji</td>\n",
       "      <td>2023-11-08 08:27:37+00:00</td>\n",
       "      <td>moving example of benchmarking to legacy dir (...</td>\n",
       "      <td>4 files changed</td>\n",
       "      <td>0 insertions(+)</td>\n",
       "      <td>2023-11-08</td>\n",
       "      <td>4</td>\n",
       "      <td>0</td>\n",
       "      <td>08</td>\n",
       "    </tr>\n",
       "    <tr>\n",
       "      <th>1</th>\n",
       "      <td>transformers</td>\n",
       "      <td>be74b2ead69df1849ec62ac5c86c7d5dee663448</td>\n",
       "      <td>Yoach Lacombe</td>\n",
       "      <td>2023-11-08 07:39:37+00:00</td>\n",
       "      <td>Add numpy alternative to FE using torchaudio (...</td>\n",
       "      <td>9 files changed</td>\n",
       "      <td>208 insertions(+)</td>\n",
       "      <td>2023-11-08</td>\n",
       "      <td>9</td>\n",
       "      <td>208</td>\n",
       "      <td>07</td>\n",
       "    </tr>\n",
       "    <tr>\n",
       "      <th>2</th>\n",
       "      <td>transformers</td>\n",
       "      <td>e2647450511e44ad9020d7d5dd455b2851850538</td>\n",
       "      <td>jiaqiw09</td>\n",
       "      <td>2023-11-07 23:34:33+00:00</td>\n",
       "      <td>translate model_sharing.md and llm_tutorial.md...</td>\n",
       "      <td>3 files changed</td>\n",
       "      <td>511 insertions(+)</td>\n",
       "      <td>2023-11-07</td>\n",
       "      <td>3</td>\n",
       "      <td>511</td>\n",
       "      <td>23</td>\n",
       "    </tr>\n",
       "    <tr>\n",
       "      <th>3</th>\n",
       "      <td>transformers</td>\n",
       "      <td>f213d5dd8cea1eb31d9b44dbdf268e4265a6d338</td>\n",
       "      <td>九是否随意的称呼</td>\n",
       "      <td>2023-11-07 23:31:51+00:00</td>\n",
       "      <td>translate the en tokenizer_summary.md to Chine...</td>\n",
       "      <td>2 files changed</td>\n",
       "      <td>236 insertions(+)</td>\n",
       "      <td>2023-11-07</td>\n",
       "      <td>2</td>\n",
       "      <td>236</td>\n",
       "      <td>23</td>\n",
       "    </tr>\n",
       "    <tr>\n",
       "      <th>4</th>\n",
       "      <td>transformers</td>\n",
       "      <td>7e1eff7600085814eac65876d4d8a0e38c2f6ccc</td>\n",
       "      <td>Plemeur</td>\n",
       "      <td>2023-11-07 21:40:00+00:00</td>\n",
       "      <td>Allow scheduler parameters (#26480)</td>\n",
       "      <td>3 files changed</td>\n",
       "      <td>24 insertions(+)</td>\n",
       "      <td>2023-11-07</td>\n",
       "      <td>3</td>\n",
       "      <td>24</td>\n",
       "      <td>21</td>\n",
       "    </tr>\n",
       "  </tbody>\n",
       "</table>\n",
       "</div>"
      ],
      "text/plain": [
       "     Repository                               Commit Hash         Author  \\\n",
       "0  transformers  b6dbfee0a21d333447b47887dbe2cb87720ebfd0         Hz, Ji   \n",
       "1  transformers  be74b2ead69df1849ec62ac5c86c7d5dee663448  Yoach Lacombe   \n",
       "2  transformers  e2647450511e44ad9020d7d5dd455b2851850538       jiaqiw09   \n",
       "3  transformers  f213d5dd8cea1eb31d9b44dbdf268e4265a6d338       九是否随意的称呼   \n",
       "4  transformers  7e1eff7600085814eac65876d4d8a0e38c2f6ccc        Plemeur   \n",
       "\n",
       "              Date and Time  \\\n",
       "0 2023-11-08 08:27:37+00:00   \n",
       "1 2023-11-08 07:39:37+00:00   \n",
       "2 2023-11-07 23:34:33+00:00   \n",
       "3 2023-11-07 23:31:51+00:00   \n",
       "4 2023-11-07 21:40:00+00:00   \n",
       "\n",
       "                                      Commit Message       Insertions  \\\n",
       "0  moving example of benchmarking to legacy dir (...  4 files changed   \n",
       "1  Add numpy alternative to FE using torchaudio (...  9 files changed   \n",
       "2  translate model_sharing.md and llm_tutorial.md...  3 files changed   \n",
       "3  translate the en tokenizer_summary.md to Chine...  2 files changed   \n",
       "4                Allow scheduler parameters (#26480)  3 files changed   \n",
       "\n",
       "           Deletions        Date  # Insertions  # Deletions Hour of Day  \n",
       "0    0 insertions(+)  2023-11-08             4            0          08  \n",
       "1  208 insertions(+)  2023-11-08             9          208          07  \n",
       "2  511 insertions(+)  2023-11-07             3          511          23  \n",
       "3  236 insertions(+)  2023-11-07             2          236          23  \n",
       "4   24 insertions(+)  2023-11-07             3           24          21  "
      ]
     },
     "execution_count": 17,
     "metadata": {},
     "output_type": "execute_result"
    }
   ],
   "source": [
    "#extract time component to look at commits by hour\n",
    "filtered_data['Hour of Day'] = filtered_data['Date and Time'].dt.strftime('%H')\n",
    "filtered_data.head()"
   ]
  },
  {
   "cell_type": "markdown",
   "id": "31525c1a-4ec5-4353-8761-d18dab257996",
   "metadata": {},
   "source": [
    "# Data Analyses"
   ]
  },
  {
   "cell_type": "markdown",
   "id": "574d1205-78d9-4f9c-9083-87c241c7f9d9",
   "metadata": {},
   "source": [
    "## Authors"
   ]
  },
  {
   "cell_type": "code",
   "execution_count": 18,
   "id": "8690039c-65af-44a9-98ff-8acc87679bab",
   "metadata": {
    "tags": []
   },
   "outputs": [
    {
     "data": {
      "text/html": [
       "<div>\n",
       "<style scoped>\n",
       "    .dataframe tbody tr th:only-of-type {\n",
       "        vertical-align: middle;\n",
       "    }\n",
       "\n",
       "    .dataframe tbody tr th {\n",
       "        vertical-align: top;\n",
       "    }\n",
       "\n",
       "    .dataframe thead th {\n",
       "        text-align: right;\n",
       "    }\n",
       "</style>\n",
       "<table border=\"1\" class=\"dataframe\">\n",
       "  <thead>\n",
       "    <tr style=\"text-align: right;\">\n",
       "      <th></th>\n",
       "      <th>Date</th>\n",
       "      <th>Repository</th>\n",
       "      <th>Author</th>\n",
       "    </tr>\n",
       "  </thead>\n",
       "  <tbody>\n",
       "    <tr>\n",
       "      <th>539</th>\n",
       "      <td>2023-11-08</td>\n",
       "      <td>transformers</td>\n",
       "      <td>2</td>\n",
       "    </tr>\n",
       "    <tr>\n",
       "      <th>538</th>\n",
       "      <td>2023-11-07</td>\n",
       "      <td>transformers</td>\n",
       "      <td>14</td>\n",
       "    </tr>\n",
       "    <tr>\n",
       "      <th>537</th>\n",
       "      <td>2023-11-07</td>\n",
       "      <td>pandas</td>\n",
       "      <td>19</td>\n",
       "    </tr>\n",
       "    <tr>\n",
       "      <th>536</th>\n",
       "      <td>2023-11-06</td>\n",
       "      <td>transformers</td>\n",
       "      <td>10</td>\n",
       "    </tr>\n",
       "    <tr>\n",
       "      <th>535</th>\n",
       "      <td>2023-11-06</td>\n",
       "      <td>pandas</td>\n",
       "      <td>8</td>\n",
       "    </tr>\n",
       "  </tbody>\n",
       "</table>\n",
       "</div>"
      ],
      "text/plain": [
       "           Date    Repository  Author\n",
       "539  2023-11-08  transformers       2\n",
       "538  2023-11-07  transformers      14\n",
       "537  2023-11-07        pandas      19\n",
       "536  2023-11-06  transformers      10\n",
       "535  2023-11-06        pandas       8"
      ]
     },
     "execution_count": 18,
     "metadata": {},
     "output_type": "execute_result"
    }
   ],
   "source": [
    "#look at the the number of authors' for by day\n",
    "authors = filtered_data.groupby(['Date', 'Repository'])['Author'].count().reset_index()\n",
    "authors_sorted = authors.sort_values(by='Date', ascending=False)\n",
    "authors_sorted.head(5)"
   ]
  },
  {
   "cell_type": "code",
   "execution_count": 19,
   "id": "2c7cf513-002a-4b61-8137-397666acdd84",
   "metadata": {
    "tags": []
   },
   "outputs": [
    {
     "data": {
      "text/html": [
       "<div>\n",
       "<style scoped>\n",
       "    .dataframe tbody tr th:only-of-type {\n",
       "        vertical-align: middle;\n",
       "    }\n",
       "\n",
       "    .dataframe tbody tr th {\n",
       "        vertical-align: top;\n",
       "    }\n",
       "\n",
       "    .dataframe thead th {\n",
       "        text-align: right;\n",
       "    }\n",
       "</style>\n",
       "<table border=\"1\" class=\"dataframe\">\n",
       "  <thead>\n",
       "    <tr style=\"text-align: right;\">\n",
       "      <th></th>\n",
       "      <th>Date</th>\n",
       "      <th>Hour of Day</th>\n",
       "      <th>Repository</th>\n",
       "      <th>Author</th>\n",
       "    </tr>\n",
       "  </thead>\n",
       "  <tbody>\n",
       "    <tr>\n",
       "      <th>2959</th>\n",
       "      <td>2023-11-08</td>\n",
       "      <td>08</td>\n",
       "      <td>transformers</td>\n",
       "      <td>1</td>\n",
       "    </tr>\n",
       "    <tr>\n",
       "      <th>2958</th>\n",
       "      <td>2023-11-08</td>\n",
       "      <td>07</td>\n",
       "      <td>transformers</td>\n",
       "      <td>1</td>\n",
       "    </tr>\n",
       "    <tr>\n",
       "      <th>2948</th>\n",
       "      <td>2023-11-07</td>\n",
       "      <td>15</td>\n",
       "      <td>transformers</td>\n",
       "      <td>1</td>\n",
       "    </tr>\n",
       "    <tr>\n",
       "      <th>2938</th>\n",
       "      <td>2023-11-07</td>\n",
       "      <td>01</td>\n",
       "      <td>pandas</td>\n",
       "      <td>5</td>\n",
       "    </tr>\n",
       "    <tr>\n",
       "      <th>2939</th>\n",
       "      <td>2023-11-07</td>\n",
       "      <td>02</td>\n",
       "      <td>pandas</td>\n",
       "      <td>1</td>\n",
       "    </tr>\n",
       "  </tbody>\n",
       "</table>\n",
       "</div>"
      ],
      "text/plain": [
       "            Date Hour of Day    Repository  Author\n",
       "2959  2023-11-08          08  transformers       1\n",
       "2958  2023-11-08          07  transformers       1\n",
       "2948  2023-11-07          15  transformers       1\n",
       "2938  2023-11-07          01        pandas       5\n",
       "2939  2023-11-07          02        pandas       1"
      ]
     },
     "execution_count": 19,
     "metadata": {},
     "output_type": "execute_result"
    }
   ],
   "source": [
    "#number of authors' by hour of the day\n",
    "authors_by_hour = filtered_data.groupby(['Date','Hour of Day', 'Repository'])['Author'].count().reset_index()\n",
    "authors_sorted_by_hour = authors_by_hour.sort_values(by='Date', ascending=False)\n",
    "authors_sorted_by_hour.head(5)"
   ]
  },
  {
   "cell_type": "markdown",
   "id": "dd44f15f-05fb-4e49-be13-6a52c9f9c0d9",
   "metadata": {},
   "source": [
    "## Commit Hashes"
   ]
  },
  {
   "cell_type": "code",
   "execution_count": 20,
   "id": "21ff8ec0-559b-4b83-9366-b7dbfc11bf6a",
   "metadata": {
    "tags": []
   },
   "outputs": [
    {
     "data": {
      "text/html": [
       "<div>\n",
       "<style scoped>\n",
       "    .dataframe tbody tr th:only-of-type {\n",
       "        vertical-align: middle;\n",
       "    }\n",
       "\n",
       "    .dataframe tbody tr th {\n",
       "        vertical-align: top;\n",
       "    }\n",
       "\n",
       "    .dataframe thead th {\n",
       "        text-align: right;\n",
       "    }\n",
       "</style>\n",
       "<table border=\"1\" class=\"dataframe\">\n",
       "  <thead>\n",
       "    <tr style=\"text-align: right;\">\n",
       "      <th></th>\n",
       "      <th>Date</th>\n",
       "      <th>Repository</th>\n",
       "      <th>Commit Hash</th>\n",
       "    </tr>\n",
       "  </thead>\n",
       "  <tbody>\n",
       "    <tr>\n",
       "      <th>539</th>\n",
       "      <td>2023-11-08</td>\n",
       "      <td>transformers</td>\n",
       "      <td>2</td>\n",
       "    </tr>\n",
       "    <tr>\n",
       "      <th>538</th>\n",
       "      <td>2023-11-07</td>\n",
       "      <td>transformers</td>\n",
       "      <td>14</td>\n",
       "    </tr>\n",
       "    <tr>\n",
       "      <th>537</th>\n",
       "      <td>2023-11-07</td>\n",
       "      <td>pandas</td>\n",
       "      <td>19</td>\n",
       "    </tr>\n",
       "    <tr>\n",
       "      <th>536</th>\n",
       "      <td>2023-11-06</td>\n",
       "      <td>transformers</td>\n",
       "      <td>10</td>\n",
       "    </tr>\n",
       "    <tr>\n",
       "      <th>535</th>\n",
       "      <td>2023-11-06</td>\n",
       "      <td>pandas</td>\n",
       "      <td>8</td>\n",
       "    </tr>\n",
       "  </tbody>\n",
       "</table>\n",
       "</div>"
      ],
      "text/plain": [
       "           Date    Repository  Commit Hash\n",
       "539  2023-11-08  transformers            2\n",
       "538  2023-11-07  transformers           14\n",
       "537  2023-11-07        pandas           19\n",
       "536  2023-11-06  transformers           10\n",
       "535  2023-11-06        pandas            8"
      ]
     },
     "execution_count": 20,
     "metadata": {},
     "output_type": "execute_result"
    }
   ],
   "source": [
    "#look at the the number of commit hashes by day\n",
    "commit_hashes = filtered_data.groupby(['Date', 'Repository'])['Commit Hash'].count().reset_index()\n",
    "commit_hashes_sorted = commit_hashes.sort_values(by='Date', ascending=False)\n",
    "commit_hashes_sorted.head(5)"
   ]
  },
  {
   "cell_type": "code",
   "execution_count": 27,
   "id": "eca8b5b4-28cf-4c27-9d55-1bfdbce17c2e",
   "metadata": {
    "tags": []
   },
   "outputs": [
    {
     "data": {
      "text/html": [
       "<div>\n",
       "<style scoped>\n",
       "    .dataframe tbody tr th:only-of-type {\n",
       "        vertical-align: middle;\n",
       "    }\n",
       "\n",
       "    .dataframe tbody tr th {\n",
       "        vertical-align: top;\n",
       "    }\n",
       "\n",
       "    .dataframe thead th {\n",
       "        text-align: right;\n",
       "    }\n",
       "</style>\n",
       "<table border=\"1\" class=\"dataframe\">\n",
       "  <thead>\n",
       "    <tr style=\"text-align: right;\">\n",
       "      <th></th>\n",
       "      <th>Date</th>\n",
       "      <th>Hour of Day</th>\n",
       "      <th>Repository</th>\n",
       "      <th>Commit Hash</th>\n",
       "    </tr>\n",
       "  </thead>\n",
       "  <tbody>\n",
       "    <tr>\n",
       "      <th>2959</th>\n",
       "      <td>2023-11-08</td>\n",
       "      <td>08</td>\n",
       "      <td>transformers</td>\n",
       "      <td>1</td>\n",
       "    </tr>\n",
       "    <tr>\n",
       "      <th>2958</th>\n",
       "      <td>2023-11-08</td>\n",
       "      <td>07</td>\n",
       "      <td>transformers</td>\n",
       "      <td>1</td>\n",
       "    </tr>\n",
       "    <tr>\n",
       "      <th>2948</th>\n",
       "      <td>2023-11-07</td>\n",
       "      <td>15</td>\n",
       "      <td>transformers</td>\n",
       "      <td>1</td>\n",
       "    </tr>\n",
       "    <tr>\n",
       "      <th>2938</th>\n",
       "      <td>2023-11-07</td>\n",
       "      <td>01</td>\n",
       "      <td>pandas</td>\n",
       "      <td>5</td>\n",
       "    </tr>\n",
       "    <tr>\n",
       "      <th>2939</th>\n",
       "      <td>2023-11-07</td>\n",
       "      <td>02</td>\n",
       "      <td>pandas</td>\n",
       "      <td>1</td>\n",
       "    </tr>\n",
       "  </tbody>\n",
       "</table>\n",
       "</div>"
      ],
      "text/plain": [
       "            Date Hour of Day    Repository  Commit Hash\n",
       "2959  2023-11-08          08  transformers            1\n",
       "2958  2023-11-08          07  transformers            1\n",
       "2948  2023-11-07          15  transformers            1\n",
       "2938  2023-11-07          01        pandas            5\n",
       "2939  2023-11-07          02        pandas            1"
      ]
     },
     "execution_count": 27,
     "metadata": {},
     "output_type": "execute_result"
    }
   ],
   "source": [
    "#look at the the number of commit hashes for by hour\n",
    "commit_hashes_by_hour = filtered_data.groupby(['Date','Hour of Day','Repository'])['Commit Hash'].count().reset_index()\n",
    "commit_hashes_sorted_by_hour = commit_hashes_by_hour.sort_values(by='Date', ascending=False)\n",
    "commit_hashes_sorted_by_hour.head(5)"
   ]
  },
  {
   "cell_type": "markdown",
   "id": "21bba0ba-4296-40ed-80bd-f0e11e2d0908",
   "metadata": {},
   "source": [
    "## Commits Insertions & Deletions by Author"
   ]
  },
  {
   "cell_type": "code",
   "execution_count": 28,
   "id": "206c3dba-3702-4be6-a771-0c7ea155f969",
   "metadata": {
    "tags": []
   },
   "outputs": [
    {
     "data": {
      "text/html": [
       "<div>\n",
       "<style scoped>\n",
       "    .dataframe tbody tr th:only-of-type {\n",
       "        vertical-align: middle;\n",
       "    }\n",
       "\n",
       "    .dataframe tbody tr th {\n",
       "        vertical-align: top;\n",
       "    }\n",
       "\n",
       "    .dataframe thead th {\n",
       "        text-align: right;\n",
       "    }\n",
       "</style>\n",
       "<table border=\"1\" class=\"dataframe\">\n",
       "  <thead>\n",
       "    <tr style=\"text-align: right;\">\n",
       "      <th></th>\n",
       "      <th>Author</th>\n",
       "      <th># Commits</th>\n",
       "      <th>Sum of Insertions</th>\n",
       "      <th>Sum of Deletions</th>\n",
       "    </tr>\n",
       "  </thead>\n",
       "  <tbody>\n",
       "    <tr>\n",
       "      <th>910</th>\n",
       "      <td>jbrockmendel</td>\n",
       "      <td>454</td>\n",
       "      <td>2991</td>\n",
       "      <td>36208</td>\n",
       "    </tr>\n",
       "    <tr>\n",
       "      <th>561</th>\n",
       "      <td>Patrick Hoefler</td>\n",
       "      <td>369</td>\n",
       "      <td>1518</td>\n",
       "      <td>15314</td>\n",
       "    </tr>\n",
       "    <tr>\n",
       "      <th>825</th>\n",
       "      <td>Yih-Dar</td>\n",
       "      <td>359</td>\n",
       "      <td>1641</td>\n",
       "      <td>33194</td>\n",
       "    </tr>\n",
       "    <tr>\n",
       "      <th>475</th>\n",
       "      <td>Matthew Roeschke</td>\n",
       "      <td>280</td>\n",
       "      <td>2094</td>\n",
       "      <td>27099</td>\n",
       "    </tr>\n",
       "    <tr>\n",
       "      <th>723</th>\n",
       "      <td>Sylvain Gugger</td>\n",
       "      <td>193</td>\n",
       "      <td>3753</td>\n",
       "      <td>26642</td>\n",
       "    </tr>\n",
       "    <tr>\n",
       "      <th>...</th>\n",
       "      <td>...</td>\n",
       "      <td>...</td>\n",
       "      <td>...</td>\n",
       "      <td>...</td>\n",
       "    </tr>\n",
       "    <tr>\n",
       "      <th>386</th>\n",
       "      <td>Kaede Fujisaki</td>\n",
       "      <td>1</td>\n",
       "      <td>1</td>\n",
       "      <td>2</td>\n",
       "    </tr>\n",
       "    <tr>\n",
       "      <th>388</th>\n",
       "      <td>Kai Mühlbauer</td>\n",
       "      <td>1</td>\n",
       "      <td>1</td>\n",
       "      <td>1</td>\n",
       "    </tr>\n",
       "    <tr>\n",
       "      <th>389</th>\n",
       "      <td>Kaito Sugimoto</td>\n",
       "      <td>1</td>\n",
       "      <td>6</td>\n",
       "      <td>8</td>\n",
       "    </tr>\n",
       "    <tr>\n",
       "      <th>390</th>\n",
       "      <td>Kamal Raj Kanakarajan</td>\n",
       "      <td>1</td>\n",
       "      <td>1</td>\n",
       "      <td>28</td>\n",
       "    </tr>\n",
       "    <tr>\n",
       "      <th>1042</th>\n",
       "      <td>나건주</td>\n",
       "      <td>1</td>\n",
       "      <td>2</td>\n",
       "      <td>265</td>\n",
       "    </tr>\n",
       "  </tbody>\n",
       "</table>\n",
       "<p>1043 rows × 4 columns</p>\n",
       "</div>"
      ],
      "text/plain": [
       "                     Author  # Commits  Sum of Insertions  Sum of Deletions\n",
       "910            jbrockmendel        454               2991             36208\n",
       "561         Patrick Hoefler        369               1518             15314\n",
       "825                 Yih-Dar        359               1641             33194\n",
       "475        Matthew Roeschke        280               2094             27099\n",
       "723          Sylvain Gugger        193               3753             26642\n",
       "...                     ...        ...                ...               ...\n",
       "386          Kaede Fujisaki          1                  1                 2\n",
       "388           Kai Mühlbauer          1                  1                 1\n",
       "389          Kaito Sugimoto          1                  6                 8\n",
       "390   Kamal Raj Kanakarajan          1                  1                28\n",
       "1042                    나건주          1                  2               265\n",
       "\n",
       "[1043 rows x 4 columns]"
      ]
     },
     "execution_count": 28,
     "metadata": {},
     "output_type": "execute_result"
    }
   ],
   "source": [
    "#count the number of commits by author\n",
    "author_commits = filtered_data.groupby('Author').size().reset_index(name='# Commits')\n",
    "\n",
    "#calculate the sum of insertions by Author\n",
    "author_sum_insertions = filtered_data.groupby('Author')['# Insertions'].sum().reset_index(name='Sum of Insertions')\n",
    "\n",
    "#calculate the sum of deletions by Author\n",
    "author_sum_deletions = filtered_data.groupby('Author')['# Deletions'].sum().reset_index(name='Sum of Deletions')\n",
    "\n",
    "#merge the findings and sort by author\n",
    "merge_insertions_with_commits = pd.merge(author_commits, author_sum_insertions, on='Author')\n",
    "\n",
    "#merge deletions with commits\n",
    "merged = pd.merge(merge_insertions_with_commits, author_sum_deletions, on='Author')\n",
    "\n",
    "#drop duplicates\n",
    "merged = merged.drop_duplicates()\n",
    "\n",
    "#sort the values in descending order and then display findings\n",
    "merged = merged.sort_values(by='# Commits', ascending=False)\n",
    "merged"
   ]
  },
  {
   "cell_type": "markdown",
   "id": "fec18cac-364b-4be7-8dd4-c9eec586c63c",
   "metadata": {},
   "source": [
    "## Insertions"
   ]
  },
  {
   "cell_type": "code",
   "execution_count": 29,
   "id": "e7f79119-b1d8-4790-a9e2-b2ea2d1e8029",
   "metadata": {
    "tags": []
   },
   "outputs": [
    {
     "data": {
      "text/html": [
       "<div>\n",
       "<style scoped>\n",
       "    .dataframe tbody tr th:only-of-type {\n",
       "        vertical-align: middle;\n",
       "    }\n",
       "\n",
       "    .dataframe tbody tr th {\n",
       "        vertical-align: top;\n",
       "    }\n",
       "\n",
       "    .dataframe thead th {\n",
       "        text-align: right;\n",
       "    }\n",
       "</style>\n",
       "<table border=\"1\" class=\"dataframe\">\n",
       "  <thead>\n",
       "    <tr style=\"text-align: right;\">\n",
       "      <th></th>\n",
       "      <th>Date</th>\n",
       "      <th>Repository</th>\n",
       "      <th># Insertions</th>\n",
       "    </tr>\n",
       "  </thead>\n",
       "  <tbody>\n",
       "    <tr>\n",
       "      <th>539</th>\n",
       "      <td>2023-11-08</td>\n",
       "      <td>transformers</td>\n",
       "      <td>13</td>\n",
       "    </tr>\n",
       "    <tr>\n",
       "      <th>538</th>\n",
       "      <td>2023-11-07</td>\n",
       "      <td>transformers</td>\n",
       "      <td>26</td>\n",
       "    </tr>\n",
       "    <tr>\n",
       "      <th>537</th>\n",
       "      <td>2023-11-07</td>\n",
       "      <td>pandas</td>\n",
       "      <td>133</td>\n",
       "    </tr>\n",
       "    <tr>\n",
       "      <th>536</th>\n",
       "      <td>2023-11-06</td>\n",
       "      <td>transformers</td>\n",
       "      <td>56</td>\n",
       "    </tr>\n",
       "    <tr>\n",
       "      <th>535</th>\n",
       "      <td>2023-11-06</td>\n",
       "      <td>pandas</td>\n",
       "      <td>22</td>\n",
       "    </tr>\n",
       "  </tbody>\n",
       "</table>\n",
       "</div>"
      ],
      "text/plain": [
       "           Date    Repository  # Insertions\n",
       "539  2023-11-08  transformers            13\n",
       "538  2023-11-07  transformers            26\n",
       "537  2023-11-07        pandas           133\n",
       "536  2023-11-06  transformers            56\n",
       "535  2023-11-06        pandas            22"
      ]
     },
     "execution_count": 29,
     "metadata": {},
     "output_type": "execute_result"
    }
   ],
   "source": [
    "#look at the the number of insertions by day\n",
    "insertions = filtered_data.groupby(['Date', 'Repository'])['# Insertions'].sum().reset_index()\n",
    "insertions_sorted = insertions.sort_values(by='Date', ascending=False)\n",
    "insertions_sorted.head(5)"
   ]
  },
  {
   "cell_type": "code",
   "execution_count": 30,
   "id": "48d9d655-2a82-426a-93e8-13a8e764aeff",
   "metadata": {
    "tags": []
   },
   "outputs": [
    {
     "data": {
      "text/html": [
       "<div>\n",
       "<style scoped>\n",
       "    .dataframe tbody tr th:only-of-type {\n",
       "        vertical-align: middle;\n",
       "    }\n",
       "\n",
       "    .dataframe tbody tr th {\n",
       "        vertical-align: top;\n",
       "    }\n",
       "\n",
       "    .dataframe thead th {\n",
       "        text-align: right;\n",
       "    }\n",
       "</style>\n",
       "<table border=\"1\" class=\"dataframe\">\n",
       "  <thead>\n",
       "    <tr style=\"text-align: right;\">\n",
       "      <th></th>\n",
       "      <th>Date</th>\n",
       "      <th>Hour of Day</th>\n",
       "      <th>Repository</th>\n",
       "      <th># Insertions</th>\n",
       "    </tr>\n",
       "  </thead>\n",
       "  <tbody>\n",
       "    <tr>\n",
       "      <th>2959</th>\n",
       "      <td>2023-11-08</td>\n",
       "      <td>08</td>\n",
       "      <td>transformers</td>\n",
       "      <td>4</td>\n",
       "    </tr>\n",
       "    <tr>\n",
       "      <th>2958</th>\n",
       "      <td>2023-11-08</td>\n",
       "      <td>07</td>\n",
       "      <td>transformers</td>\n",
       "      <td>9</td>\n",
       "    </tr>\n",
       "    <tr>\n",
       "      <th>2948</th>\n",
       "      <td>2023-11-07</td>\n",
       "      <td>15</td>\n",
       "      <td>transformers</td>\n",
       "      <td>1</td>\n",
       "    </tr>\n",
       "    <tr>\n",
       "      <th>2938</th>\n",
       "      <td>2023-11-07</td>\n",
       "      <td>01</td>\n",
       "      <td>pandas</td>\n",
       "      <td>41</td>\n",
       "    </tr>\n",
       "    <tr>\n",
       "      <th>2939</th>\n",
       "      <td>2023-11-07</td>\n",
       "      <td>02</td>\n",
       "      <td>pandas</td>\n",
       "      <td>2</td>\n",
       "    </tr>\n",
       "  </tbody>\n",
       "</table>\n",
       "</div>"
      ],
      "text/plain": [
       "            Date Hour of Day    Repository  # Insertions\n",
       "2959  2023-11-08          08  transformers             4\n",
       "2958  2023-11-08          07  transformers             9\n",
       "2948  2023-11-07          15  transformers             1\n",
       "2938  2023-11-07          01        pandas            41\n",
       "2939  2023-11-07          02        pandas             2"
      ]
     },
     "execution_count": 30,
     "metadata": {},
     "output_type": "execute_result"
    }
   ],
   "source": [
    "#look at the the number of insertions by hour the day\n",
    "insertions_by_hour = filtered_data.groupby(['Date', 'Hour of Day', 'Repository'])['# Insertions'].sum().reset_index()\n",
    "insertions_by_hour_sorted = insertions_by_hour.sort_values(by='Date', ascending=False)\n",
    "insertions_by_hour_sorted.head(5)"
   ]
  },
  {
   "cell_type": "markdown",
   "id": "1a63aa71-3a97-45d3-a44d-c88bc1a8704a",
   "metadata": {},
   "source": [
    "## Deletions"
   ]
  },
  {
   "cell_type": "code",
   "execution_count": 31,
   "id": "c66d392e-9f7a-42dd-9067-de4fbe4a975a",
   "metadata": {
    "tags": []
   },
   "outputs": [
    {
     "data": {
      "text/html": [
       "<div>\n",
       "<style scoped>\n",
       "    .dataframe tbody tr th:only-of-type {\n",
       "        vertical-align: middle;\n",
       "    }\n",
       "\n",
       "    .dataframe tbody tr th {\n",
       "        vertical-align: top;\n",
       "    }\n",
       "\n",
       "    .dataframe thead th {\n",
       "        text-align: right;\n",
       "    }\n",
       "</style>\n",
       "<table border=\"1\" class=\"dataframe\">\n",
       "  <thead>\n",
       "    <tr style=\"text-align: right;\">\n",
       "      <th></th>\n",
       "      <th>Date</th>\n",
       "      <th>Repository</th>\n",
       "      <th># Deletions</th>\n",
       "    </tr>\n",
       "  </thead>\n",
       "  <tbody>\n",
       "    <tr>\n",
       "      <th>539</th>\n",
       "      <td>2023-11-08</td>\n",
       "      <td>transformers</td>\n",
       "      <td>208</td>\n",
       "    </tr>\n",
       "    <tr>\n",
       "      <th>538</th>\n",
       "      <td>2023-11-07</td>\n",
       "      <td>transformers</td>\n",
       "      <td>1402</td>\n",
       "    </tr>\n",
       "    <tr>\n",
       "      <th>537</th>\n",
       "      <td>2023-11-07</td>\n",
       "      <td>pandas</td>\n",
       "      <td>940</td>\n",
       "    </tr>\n",
       "    <tr>\n",
       "      <th>536</th>\n",
       "      <td>2023-11-06</td>\n",
       "      <td>transformers</td>\n",
       "      <td>139</td>\n",
       "    </tr>\n",
       "    <tr>\n",
       "      <th>535</th>\n",
       "      <td>2023-11-06</td>\n",
       "      <td>pandas</td>\n",
       "      <td>182</td>\n",
       "    </tr>\n",
       "  </tbody>\n",
       "</table>\n",
       "</div>"
      ],
      "text/plain": [
       "           Date    Repository  # Deletions\n",
       "539  2023-11-08  transformers          208\n",
       "538  2023-11-07  transformers         1402\n",
       "537  2023-11-07        pandas          940\n",
       "536  2023-11-06  transformers          139\n",
       "535  2023-11-06        pandas          182"
      ]
     },
     "execution_count": 31,
     "metadata": {},
     "output_type": "execute_result"
    }
   ],
   "source": [
    "#look at the the number of deletions by day\n",
    "deletions = filtered_data.groupby(['Date', 'Repository'])['# Deletions'].sum().reset_index()\n",
    "deletions_sorted = deletions.sort_values(by='Date', ascending=False)\n",
    "deletions_sorted.head(5)"
   ]
  },
  {
   "cell_type": "code",
   "execution_count": 32,
   "id": "d3c37a6e-d4b0-47b2-8543-8a9a8fc6deaa",
   "metadata": {
    "tags": []
   },
   "outputs": [
    {
     "data": {
      "text/html": [
       "<div>\n",
       "<style scoped>\n",
       "    .dataframe tbody tr th:only-of-type {\n",
       "        vertical-align: middle;\n",
       "    }\n",
       "\n",
       "    .dataframe tbody tr th {\n",
       "        vertical-align: top;\n",
       "    }\n",
       "\n",
       "    .dataframe thead th {\n",
       "        text-align: right;\n",
       "    }\n",
       "</style>\n",
       "<table border=\"1\" class=\"dataframe\">\n",
       "  <thead>\n",
       "    <tr style=\"text-align: right;\">\n",
       "      <th></th>\n",
       "      <th>Date</th>\n",
       "      <th>Hour of Day</th>\n",
       "      <th>Repository</th>\n",
       "      <th># Deletions</th>\n",
       "    </tr>\n",
       "  </thead>\n",
       "  <tbody>\n",
       "    <tr>\n",
       "      <th>2959</th>\n",
       "      <td>2023-11-08</td>\n",
       "      <td>08</td>\n",
       "      <td>transformers</td>\n",
       "      <td>0</td>\n",
       "    </tr>\n",
       "    <tr>\n",
       "      <th>2958</th>\n",
       "      <td>2023-11-08</td>\n",
       "      <td>07</td>\n",
       "      <td>transformers</td>\n",
       "      <td>208</td>\n",
       "    </tr>\n",
       "    <tr>\n",
       "      <th>2948</th>\n",
       "      <td>2023-11-07</td>\n",
       "      <td>15</td>\n",
       "      <td>transformers</td>\n",
       "      <td>1</td>\n",
       "    </tr>\n",
       "    <tr>\n",
       "      <th>2938</th>\n",
       "      <td>2023-11-07</td>\n",
       "      <td>01</td>\n",
       "      <td>pandas</td>\n",
       "      <td>210</td>\n",
       "    </tr>\n",
       "    <tr>\n",
       "      <th>2939</th>\n",
       "      <td>2023-11-07</td>\n",
       "      <td>02</td>\n",
       "      <td>pandas</td>\n",
       "      <td>9</td>\n",
       "    </tr>\n",
       "  </tbody>\n",
       "</table>\n",
       "</div>"
      ],
      "text/plain": [
       "            Date Hour of Day    Repository  # Deletions\n",
       "2959  2023-11-08          08  transformers            0\n",
       "2958  2023-11-08          07  transformers          208\n",
       "2948  2023-11-07          15  transformers            1\n",
       "2938  2023-11-07          01        pandas          210\n",
       "2939  2023-11-07          02        pandas            9"
      ]
     },
     "execution_count": 32,
     "metadata": {},
     "output_type": "execute_result"
    }
   ],
   "source": [
    "#look at the the number of deletions by hour of the day\n",
    "deletions_by_hour = filtered_data.groupby(['Date','Hour of Day', 'Repository'])['# Deletions'].sum().reset_index()\n",
    "deletions_by_hour_sorted = deletions_by_hour.sort_values(by='Date', ascending=False)\n",
    "deletions_by_hour_sorted.head(5)"
   ]
  }
 ],
 "metadata": {
  "kernelspec": {
   "display_name": "Python 3 (ipykernel)",
   "language": "python",
   "name": "python3"
  },
  "language_info": {
   "codemirror_mode": {
    "name": "ipython",
    "version": 3
   },
   "file_extension": ".py",
   "mimetype": "text/x-python",
   "name": "python",
   "nbconvert_exporter": "python",
   "pygments_lexer": "ipython3",
   "version": "3.11.5"
  }
 },
 "nbformat": 4,
 "nbformat_minor": 5
}
