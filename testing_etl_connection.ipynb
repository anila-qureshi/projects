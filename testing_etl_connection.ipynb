{
 "cells": [
  {
   "cell_type": "code",
   "execution_count": 1,
   "id": "3ec3920a-061d-4cad-952b-96dcec9f1c30",
   "metadata": {
    "tags": []
   },
   "outputs": [],
   "source": [
    "import psycopg2\n",
    "import pandas as pd\n",
    "from sqlalchemy import create_engine\n",
    "\n",
    "# Define the database connection parameters\n",
    "db_params = {\n",
    " 'host': 'localhost'\n",
    ", 'database': 'postgres'\n",
    ", 'user': 'anilaqureshi'\n",
    ", 'password': ''\n",
    "}\n",
    "\n",
    "# Function to create a new database\n",
    "def create_database(db_params):\n",
    "    try:\n",
    "        # Create connection to Postgres server\n",
    "        with psycopg2.connect(\n",
    "        host=db_params['host'],\n",
    "        database=db_params['database'],\n",
    "        user=db_params['user'],\n",
    "        password=db_params['password']\n",
    "        ) as conn:\n",
    "            conn.set_session(autocommit=True)\n",
    "        with conn.cursor() as cur:\n",
    "            # Check if the database already exists\n",
    "            db_params['database'] = 'repos'\n",
    "            cur.execute(\"SELECT * FROM pg_catalog.pg_database WHERE datname = %s\", (db_params['database'],))\n",
    "                       \n",
    "            exists = cur.fetchall()\n",
    "            for row in exists:\n",
    "                print(row)\n",
    "            if not exists:\n",
    "            # Create the database\n",
    "                cur.execute(f\"CREATE DATABASE {db_params['database']}\")\n",
    "                print(f\"Database {db_params['database']} created successfully.\")\n",
    "            else:\n",
    "                print(f\"Database {db_params['database']} already exists.\")\n",
    "    except psycopg2.Error as e:\n",
    "        print(f\"An error occurred: {e}\")"
   ]
  },
  {
   "cell_type": "code",
   "execution_count": 2,
   "id": "62389f38-4495-4c58-9f74-2e6931f273ba",
   "metadata": {
    "tags": []
   },
   "outputs": [],
   "source": [
    "# print(f\"CREATE DATABASE {db_params['database']}\")"
   ]
  },
  {
   "cell_type": "code",
   "execution_count": 3,
   "id": "677f8256-ca7f-401d-894d-3fb2bc896818",
   "metadata": {
    "tags": []
   },
   "outputs": [
    {
     "name": "stdout",
     "output_type": "stream",
     "text": [
      "(16404, 'repos', 10, 6, 'c', False, True, -1, '716', '1', 1663, 'C', 'C', None, None, None)\n",
      "Database repos already exists.\n",
      "Contents of 'repository_data' CSV file:\n"
     ]
    },
    {
     "data": {
      "text/html": [
       "<div>\n",
       "<style scoped>\n",
       "    .dataframe tbody tr th:only-of-type {\n",
       "        vertical-align: middle;\n",
       "    }\n",
       "\n",
       "    .dataframe tbody tr th {\n",
       "        vertical-align: top;\n",
       "    }\n",
       "\n",
       "    .dataframe thead th {\n",
       "        text-align: right;\n",
       "    }\n",
       "</style>\n",
       "<table border=\"1\" class=\"dataframe\">\n",
       "  <thead>\n",
       "    <tr style=\"text-align: right;\">\n",
       "      <th></th>\n",
       "      <th>Repository</th>\n",
       "      <th>Commit Hash</th>\n",
       "      <th>Author</th>\n",
       "      <th>Date and Time</th>\n",
       "      <th>Commit Message</th>\n",
       "      <th>Insertions</th>\n",
       "      <th>Deletions</th>\n",
       "    </tr>\n",
       "  </thead>\n",
       "  <tbody>\n",
       "    <tr>\n",
       "      <th>0</th>\n",
       "      <td>transformers</td>\n",
       "      <td>b6dbfee0a21d333447b47887dbe2cb87720ebfd0</td>\n",
       "      <td>Hz, Ji</td>\n",
       "      <td>2023-11-08 16:27:37 +0800</td>\n",
       "      <td>moving example of benchmarking to legacy dir (...</td>\n",
       "      <td>4 files changed</td>\n",
       "      <td>0 insertions(+)</td>\n",
       "    </tr>\n",
       "    <tr>\n",
       "      <th>1</th>\n",
       "      <td>transformers</td>\n",
       "      <td>be74b2ead69df1849ec62ac5c86c7d5dee663448</td>\n",
       "      <td>Yoach Lacombe</td>\n",
       "      <td>2023-11-08 07:39:37 +0000</td>\n",
       "      <td>Add numpy alternative to FE using torchaudio (...</td>\n",
       "      <td>9 files changed</td>\n",
       "      <td>208 insertions(+)</td>\n",
       "    </tr>\n",
       "    <tr>\n",
       "      <th>2</th>\n",
       "      <td>transformers</td>\n",
       "      <td>e2647450511e44ad9020d7d5dd455b2851850538</td>\n",
       "      <td>jiaqiw09</td>\n",
       "      <td>2023-11-07 17:34:33 -0600</td>\n",
       "      <td>translate model_sharing.md and llm_tutorial.md...</td>\n",
       "      <td>3 files changed</td>\n",
       "      <td>511 insertions(+)</td>\n",
       "    </tr>\n",
       "    <tr>\n",
       "      <th>3</th>\n",
       "      <td>transformers</td>\n",
       "      <td>f213d5dd8cea1eb31d9b44dbdf268e4265a6d338</td>\n",
       "      <td>九是否随意的称呼</td>\n",
       "      <td>2023-11-08 07:31:51 +0800</td>\n",
       "      <td>translate the en tokenizer_summary.md to Chine...</td>\n",
       "      <td>2 files changed</td>\n",
       "      <td>236 insertions(+)</td>\n",
       "    </tr>\n",
       "    <tr>\n",
       "      <th>4</th>\n",
       "      <td>transformers</td>\n",
       "      <td>7e1eff7600085814eac65876d4d8a0e38c2f6ccc</td>\n",
       "      <td>Plemeur</td>\n",
       "      <td>2023-11-08 06:40:00 +0900</td>\n",
       "      <td>Allow scheduler parameters (#26480)</td>\n",
       "      <td>3 files changed</td>\n",
       "      <td>24 insertions(+)</td>\n",
       "    </tr>\n",
       "  </tbody>\n",
       "</table>\n",
       "</div>"
      ],
      "text/plain": [
       "     Repository                               Commit Hash         Author  \\\n",
       "0  transformers  b6dbfee0a21d333447b47887dbe2cb87720ebfd0         Hz, Ji   \n",
       "1  transformers  be74b2ead69df1849ec62ac5c86c7d5dee663448  Yoach Lacombe   \n",
       "2  transformers  e2647450511e44ad9020d7d5dd455b2851850538       jiaqiw09   \n",
       "3  transformers  f213d5dd8cea1eb31d9b44dbdf268e4265a6d338       九是否随意的称呼   \n",
       "4  transformers  7e1eff7600085814eac65876d4d8a0e38c2f6ccc        Plemeur   \n",
       "\n",
       "               Date and Time  \\\n",
       "0  2023-11-08 16:27:37 +0800   \n",
       "1  2023-11-08 07:39:37 +0000   \n",
       "2  2023-11-07 17:34:33 -0600   \n",
       "3  2023-11-08 07:31:51 +0800   \n",
       "4  2023-11-08 06:40:00 +0900   \n",
       "\n",
       "                                      Commit Message       Insertions  \\\n",
       "0  moving example of benchmarking to legacy dir (...  4 files changed   \n",
       "1  Add numpy alternative to FE using torchaudio (...  9 files changed   \n",
       "2  translate model_sharing.md and llm_tutorial.md...  3 files changed   \n",
       "3  translate the en tokenizer_summary.md to Chine...  2 files changed   \n",
       "4                Allow scheduler parameters (#26480)  3 files changed   \n",
       "\n",
       "           Deletions  \n",
       "0    0 insertions(+)  \n",
       "1  208 insertions(+)  \n",
       "2  511 insertions(+)  \n",
       "3  236 insertions(+)  \n",
       "4   24 insertions(+)  "
      ]
     },
     "metadata": {},
     "output_type": "display_data"
    },
    {
     "name": "stdout",
     "output_type": "stream",
     "text": [
      "\n",
      "\n"
     ]
    }
   ],
   "source": [
    "\n",
    "# Call the function to create the database\n",
    "create_database(db_params)\n",
    "\n",
    "# connect to the repos database\n",
    "engine = create_engine(f'postgresql://{db_params[\"user\"]}:{db_params[\"password\"]}@{db_params[\"host\"]}/{db_params[\"database\"]}')\n",
    "\n",
    "# define the file paths for your CSV files\n",
    "csv_files = {\n",
    "'repository_data': 'commit_data.csv' # Replace with the correct path\n",
    "}\n",
    "\n",
    "# load and display the contents of each CSV file to check\n",
    "for table_name, file_path in csv_files.items():\n",
    "    print(f\"Contents of '{table_name}' CSV file:\")\n",
    "    df = pd.read_csv(file_path)\n",
    "    display(df.head()) # display the first few rows of the DataFrame\n",
    "    print(\"\\n\")"
   ]
  },
  {
   "cell_type": "code",
   "execution_count": 4,
   "id": "9720683f-4f37-4902-a532-ed312096c3b2",
   "metadata": {
    "tags": []
   },
   "outputs": [
    {
     "name": "stdout",
     "output_type": "stream",
     "text": [
      "('transformers', 'b6dbfee0a21d333447b47887dbe2cb87720ebfd0', 'Hz, Ji', '2023-11-08 16:27:37 +0800', 'moving example of benchmarking to legacy dir (#27337)', '4 files changed', '0 insertions(+)')\n",
      "('transformers', 'be74b2ead69df1849ec62ac5c86c7d5dee663448', 'Yoach Lacombe', '2023-11-08 07:39:37 +0000', 'Add numpy alternative to FE using torchaudio (#26339)', '9 files changed', '208 insertions(+)')\n",
      "('transformers', 'e2647450511e44ad9020d7d5dd455b2851850538', 'jiaqiw09', '2023-11-07 17:34:33 -0600', 'translate model_sharing.md and llm_tutorial.md to chinese (#27283)', '3 files changed', '511 insertions(+)')\n",
      "('transformers', 'f213d5dd8cea1eb31d9b44dbdf268e4265a6d338', '九是否随意的称呼', '2023-11-08 07:31:51 +0800', 'translate the en tokenizer_summary.md to Chinese (#27291)', '2 files changed', '236 insertions(+)')\n",
      "('transformers', '7e1eff7600085814eac65876d4d8a0e38c2f6ccc', 'Plemeur', '2023-11-08 06:40:00 +0900', 'Allow scheduler parameters (#26480)', '3 files changed', '24 insertions(+)')\n"
     ]
    }
   ],
   "source": [
    "# Loop through the CSV files and import them into PostgreSQL\n",
    "for table_name, file_path in csv_files.items():\n",
    "    df = pd.read_csv(file_path)\n",
    "    df.to_sql(table_name, engine, if_exists='replace', index=False)\n",
    "    with psycopg2.connect(\n",
    "        host=db_params['host'],\n",
    "        database=db_params['database'],\n",
    "        user=db_params['user'],\n",
    "        password=db_params['password']\n",
    "        ) as conn:\n",
    "            conn.set_session(autocommit=True)\n",
    "    with conn.cursor() as cur:\n",
    "            # Check if the database already exists\n",
    "            db_params['database'] = 'repos'\n",
    "            cur.execute(\"SELECT * FROM repository_data LIMIT 5\", (db_params['database'],))\n",
    "                       \n",
    "            exists = cur.fetchall()\n",
    "            for row in exists:\n",
    "                print(row)"
   ]
  },
  {
   "cell_type": "code",
   "execution_count": 5,
   "id": "b1c61c9a-eafe-454a-827b-63f7893c97d9",
   "metadata": {
    "tags": []
   },
   "outputs": [
    {
     "name": "stdout",
     "output_type": "stream",
     "text": [
      "repository_data\n"
     ]
    }
   ],
   "source": [
    "# A check to see if looped through to Postgres and table name exists\n",
    "for table_name, file_path in csv_files.items():\n",
    "    df = pd.read_csv(file_path)\n",
    "    df.to_sql(table_name, engine, if_exists='replace', index=False)\n",
    "    print(table_name)"
   ]
  },
  {
   "cell_type": "code",
   "execution_count": 6,
   "id": "4f3d94b6-a92b-4245-9c3b-604d30a019f7",
   "metadata": {
    "tags": []
   },
   "outputs": [
    {
     "name": "stdout",
     "output_type": "stream",
     "text": [
      "(16404, 'repos', 10, 6, 'c', False, True, -1, '716', '1', 1663, 'C', 'C', None, None, None)\n",
      "Database repos already exists.\n",
      "Contents of 'repository_data' CSV file:\n"
     ]
    },
    {
     "data": {
      "text/html": [
       "<div>\n",
       "<style scoped>\n",
       "    .dataframe tbody tr th:only-of-type {\n",
       "        vertical-align: middle;\n",
       "    }\n",
       "\n",
       "    .dataframe tbody tr th {\n",
       "        vertical-align: top;\n",
       "    }\n",
       "\n",
       "    .dataframe thead th {\n",
       "        text-align: right;\n",
       "    }\n",
       "</style>\n",
       "<table border=\"1\" class=\"dataframe\">\n",
       "  <thead>\n",
       "    <tr style=\"text-align: right;\">\n",
       "      <th></th>\n",
       "      <th>Repository</th>\n",
       "      <th>Commit Hash</th>\n",
       "      <th>Author</th>\n",
       "      <th>Date and Time</th>\n",
       "      <th>Commit Message</th>\n",
       "      <th>Insertions</th>\n",
       "      <th>Deletions</th>\n",
       "    </tr>\n",
       "  </thead>\n",
       "  <tbody>\n",
       "    <tr>\n",
       "      <th>0</th>\n",
       "      <td>transformers</td>\n",
       "      <td>b6dbfee0a21d333447b47887dbe2cb87720ebfd0</td>\n",
       "      <td>Hz, Ji</td>\n",
       "      <td>2023-11-08 16:27:37 +0800</td>\n",
       "      <td>moving example of benchmarking to legacy dir (...</td>\n",
       "      <td>4 files changed</td>\n",
       "      <td>0 insertions(+)</td>\n",
       "    </tr>\n",
       "    <tr>\n",
       "      <th>1</th>\n",
       "      <td>transformers</td>\n",
       "      <td>be74b2ead69df1849ec62ac5c86c7d5dee663448</td>\n",
       "      <td>Yoach Lacombe</td>\n",
       "      <td>2023-11-08 07:39:37 +0000</td>\n",
       "      <td>Add numpy alternative to FE using torchaudio (...</td>\n",
       "      <td>9 files changed</td>\n",
       "      <td>208 insertions(+)</td>\n",
       "    </tr>\n",
       "    <tr>\n",
       "      <th>2</th>\n",
       "      <td>transformers</td>\n",
       "      <td>e2647450511e44ad9020d7d5dd455b2851850538</td>\n",
       "      <td>jiaqiw09</td>\n",
       "      <td>2023-11-07 17:34:33 -0600</td>\n",
       "      <td>translate model_sharing.md and llm_tutorial.md...</td>\n",
       "      <td>3 files changed</td>\n",
       "      <td>511 insertions(+)</td>\n",
       "    </tr>\n",
       "    <tr>\n",
       "      <th>3</th>\n",
       "      <td>transformers</td>\n",
       "      <td>f213d5dd8cea1eb31d9b44dbdf268e4265a6d338</td>\n",
       "      <td>九是否随意的称呼</td>\n",
       "      <td>2023-11-08 07:31:51 +0800</td>\n",
       "      <td>translate the en tokenizer_summary.md to Chine...</td>\n",
       "      <td>2 files changed</td>\n",
       "      <td>236 insertions(+)</td>\n",
       "    </tr>\n",
       "    <tr>\n",
       "      <th>4</th>\n",
       "      <td>transformers</td>\n",
       "      <td>7e1eff7600085814eac65876d4d8a0e38c2f6ccc</td>\n",
       "      <td>Plemeur</td>\n",
       "      <td>2023-11-08 06:40:00 +0900</td>\n",
       "      <td>Allow scheduler parameters (#26480)</td>\n",
       "      <td>3 files changed</td>\n",
       "      <td>24 insertions(+)</td>\n",
       "    </tr>\n",
       "  </tbody>\n",
       "</table>\n",
       "</div>"
      ],
      "text/plain": [
       "     Repository                               Commit Hash         Author  \\\n",
       "0  transformers  b6dbfee0a21d333447b47887dbe2cb87720ebfd0         Hz, Ji   \n",
       "1  transformers  be74b2ead69df1849ec62ac5c86c7d5dee663448  Yoach Lacombe   \n",
       "2  transformers  e2647450511e44ad9020d7d5dd455b2851850538       jiaqiw09   \n",
       "3  transformers  f213d5dd8cea1eb31d9b44dbdf268e4265a6d338       九是否随意的称呼   \n",
       "4  transformers  7e1eff7600085814eac65876d4d8a0e38c2f6ccc        Plemeur   \n",
       "\n",
       "               Date and Time  \\\n",
       "0  2023-11-08 16:27:37 +0800   \n",
       "1  2023-11-08 07:39:37 +0000   \n",
       "2  2023-11-07 17:34:33 -0600   \n",
       "3  2023-11-08 07:31:51 +0800   \n",
       "4  2023-11-08 06:40:00 +0900   \n",
       "\n",
       "                                      Commit Message       Insertions  \\\n",
       "0  moving example of benchmarking to legacy dir (...  4 files changed   \n",
       "1  Add numpy alternative to FE using torchaudio (...  9 files changed   \n",
       "2  translate model_sharing.md and llm_tutorial.md...  3 files changed   \n",
       "3  translate the en tokenizer_summary.md to Chine...  2 files changed   \n",
       "4                Allow scheduler parameters (#26480)  3 files changed   \n",
       "\n",
       "           Deletions  \n",
       "0    0 insertions(+)  \n",
       "1  208 insertions(+)  \n",
       "2  511 insertions(+)  \n",
       "3  236 insertions(+)  \n",
       "4   24 insertions(+)  "
      ]
     },
     "metadata": {},
     "output_type": "display_data"
    },
    {
     "name": "stdout",
     "output_type": "stream",
     "text": [
      "\n",
      "\n",
      "('transformers', 'b6dbfee0a21d333447b47887dbe2cb87720ebfd0', 'Hz, Ji', '2023-11-08 16:27:37 +0800', 'moving example of benchmarking to legacy dir (#27337)', '4 files changed', '0 insertions(+)')\n",
      "('transformers', 'be74b2ead69df1849ec62ac5c86c7d5dee663448', 'Yoach Lacombe', '2023-11-08 07:39:37 +0000', 'Add numpy alternative to FE using torchaudio (#26339)', '9 files changed', '208 insertions(+)')\n",
      "('transformers', 'e2647450511e44ad9020d7d5dd455b2851850538', 'jiaqiw09', '2023-11-07 17:34:33 -0600', 'translate model_sharing.md and llm_tutorial.md to chinese (#27283)', '3 files changed', '511 insertions(+)')\n",
      "('transformers', 'f213d5dd8cea1eb31d9b44dbdf268e4265a6d338', '九是否随意的称呼', '2023-11-08 07:31:51 +0800', 'translate the en tokenizer_summary.md to Chinese (#27291)', '2 files changed', '236 insertions(+)')\n",
      "('transformers', '7e1eff7600085814eac65876d4d8a0e38c2f6ccc', 'Plemeur', '2023-11-08 06:40:00 +0900', 'Allow scheduler parameters (#26480)', '3 files changed', '24 insertions(+)')\n"
     ]
    }
   ],
   "source": [
    "import load_to_postgres"
   ]
  },
  {
   "cell_type": "code",
   "execution_count": null,
   "id": "21a28586-8e39-48d2-b9be-4f1d3dfb13d6",
   "metadata": {},
   "outputs": [],
   "source": []
  }
 ],
 "metadata": {
  "kernelspec": {
   "display_name": "Python 3 (ipykernel)",
   "language": "python",
   "name": "python3"
  },
  "language_info": {
   "codemirror_mode": {
    "name": "ipython",
    "version": 3
   },
   "file_extension": ".py",
   "mimetype": "text/x-python",
   "name": "python",
   "nbconvert_exporter": "python",
   "pygments_lexer": "ipython3",
   "version": "3.11.5"
  }
 },
 "nbformat": 4,
 "nbformat_minor": 5
}
